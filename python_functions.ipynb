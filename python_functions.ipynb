{
 "cells": [
  {
   "cell_type": "markdown",
   "id": "8ea4e5e3-50aa-47d6-a93b-1dfdb995bbb8",
   "metadata": {},
   "source": [
    "# 1. Atividade\n",
    "A atividade consiste em adicionar mais funcionalidades ao módulo **math_operations.py**. Todas as funções contidas no módulo devem também ser capazes de aceitar listas de valores como entradas. Deve-se se certificar de que todos os valores devem ser do tipo **int** ou **float**."
   ]
  },
  {
   "cell_type": "markdown",
   "id": "b840636c-0b43-4256-9f95-c064cc575960",
   "metadata": {
    "jp-MarkdownHeadingCollapsed": true,
    "tags": []
   },
   "source": [
    "## 1.1 Função sum(x, y=None)\n",
    "Os seguintes casos existem para a função sum():\n",
    "\n",
    "    - x é um valor numérico e y é None:\n",
    "        - retorna x\n",
    "        \n",
    "    - x é um valor numérico e y é um valor numérico:\n",
    "        - retorna x + y\n",
    "        \n",
    "    - x é uma lista e y é None:\n",
    "        - retorna o somatório dos valores em x\n",
    "        \n",
    "    - x é um valor numérico e y é uma lista:\n",
    "        - retorna uma lista com x somado a cada valor contido em y ([x + y[0], x + y[1], ...])\n",
    "        \n",
    "    - x é uma lista e y é um valor numérico:\n",
    "        - retorna uma lista com y somado a cada valor contido em x ([x[0] + y, x[1] + y, ...])\n",
    "        \n",
    "    - x é uma lista e y é uma lista:\n",
    "        - retorna uma lista com cada valor em x somada com o respectivo valor em y ([x[0] + y[0], x[1] + y[1], ...])"
   ]
  },
  {
   "cell_type": "markdown",
   "id": "6c43b9e0-7102-4fe4-8045-5012c27caab9",
   "metadata": {
    "tags": []
   },
   "source": [
    "## 1.1 Função multiply(x, y=None)\n",
    "Os seguintes casos existem para a função multiply():\n",
    "\n",
    "    - x é um valor numérico e y é None:\n",
    "        - retorna x\n",
    "        \n",
    "    - x é um valor numérico e y é um valor numérico\n",
    "        - retorna x * y\n",
    "\n",
    "        \n",
    "    - x é uma lista e y é None:\n",
    "        - retorna o produtório dos valores em x\n",
    "        \n",
    "    - x é um valor numérico e y é uma lista:\n",
    "        - retorna uma lista com x somado a cada valor contido em y ([x * y[0], x * y[1], ...])\n",
    "        \n",
    "    - x é uma lista e y é um valor numérico:\n",
    "        - retorna uma lista com y somado a cada valor contido em x ([x[0] * y, x[1] * y, ...])\n",
    "        \n",
    "    - x é uma lista e y é uma lista:\n",
    "        - retorna uma lista com cada valor em x somada com o respectivo valor em y ([x[0] * y[0], x[1] * y[1], ...])"
   ]
  },
  {
   "cell_type": "code",
   "execution_count": 1,
   "id": "4a95661e-e563-4bc7-9fa5-d55a32022466",
   "metadata": {},
   "outputs": [
    {
     "name": "stdout",
     "output_type": "stream",
     "text": [
      "False\n",
      "True\n"
     ]
    }
   ],
   "source": [
    "# algumas funções úteis (isinstance() e all())\n",
    "x = [1, 2, 3]\n",
    "print(isinstance(x, float))\n",
    "print(isinstance(x, list))"
   ]
  },
  {
   "cell_type": "code",
   "execution_count": 2,
   "id": "add0f463-a9ad-4688-b87e-9cef27ecdba3",
   "metadata": {},
   "outputs": [
    {
     "name": "stdout",
     "output_type": "stream",
     "text": [
      "False\n",
      "True\n"
     ]
    }
   ],
   "source": [
    "x = [True, False, True]\n",
    "y = [True, True, True]\n",
    "print(all(x))\n",
    "print(all(y))"
   ]
  },
  {
   "cell_type": "code",
   "execution_count": 3,
   "id": "016f1d72-d46a-494a-8fba-7508fa8b7a8f",
   "metadata": {},
   "outputs": [
    {
     "name": "stdout",
     "output_type": "stream",
     "text": [
      "[True, True, False]\n"
     ]
    },
    {
     "data": {
      "text/plain": [
       "False"
      ]
     },
     "execution_count": 3,
     "metadata": {},
     "output_type": "execute_result"
    }
   ],
   "source": [
    "x = [1, 2, \"1\"]\n",
    "# list comprehension\n",
    "x_bool = [(type(value) == int or type(value) == float) for value in x]\n",
    "print(x_bool)\n",
    "all(x_bool)"
   ]
  },
  {
   "cell_type": "code",
   "execution_count": 4,
   "id": "613eacaf-52d9-4899-bd9a-9f57ad1dcb7a",
   "metadata": {},
   "outputs": [],
   "source": [
    "import math_operations as ops"
   ]
  },
  {
   "cell_type": "markdown",
   "id": "705a7452-20c0-474b-8921-a15e718818a8",
   "metadata": {
    "tags": []
   },
   "source": [
    "## Sum"
   ]
  },
  {
   "cell_type": "code",
   "execution_count": 5,
   "id": "2e5b9c0c-b087-4151-ab70-1084f9d55833",
   "metadata": {},
   "outputs": [
    {
     "data": {
      "text/plain": [
       "3"
      ]
     },
     "execution_count": 5,
     "metadata": {},
     "output_type": "execute_result"
    }
   ],
   "source": [
    "ops.sum(1, 2)"
   ]
  },
  {
   "cell_type": "code",
   "execution_count": 15,
   "id": "ebfa2557-e6dd-40fd-935f-b5a2cef8547d",
   "metadata": {},
   "outputs": [
    {
     "data": {
      "text/plain": [
       "10"
      ]
     },
     "execution_count": 15,
     "metadata": {},
     "output_type": "execute_result"
    }
   ],
   "source": [
    "ops.sum(10)"
   ]
  },
  {
   "cell_type": "code",
   "execution_count": 17,
   "id": "377e4ad4-1eff-45ab-97ce-7a0fb080f416",
   "metadata": {},
   "outputs": [
    {
     "data": {
      "text/plain": [
       "30.25"
      ]
     },
     "execution_count": 17,
     "metadata": {},
     "output_type": "execute_result"
    }
   ],
   "source": [
    "ops.sum([10.5,10,3.75,6])"
   ]
  },
  {
   "cell_type": "code",
   "execution_count": 23,
   "id": "df234cc3-0710-45b8-9a5f-13a07879e35c",
   "metadata": {},
   "outputs": [
    {
     "data": {
      "text/plain": [
       "[4.1, 11.83, 4]"
      ]
     },
     "execution_count": 23,
     "metadata": {},
     "output_type": "execute_result"
    }
   ],
   "source": [
    "ops.sum(1, [3.1, 10.83, 3])"
   ]
  },
  {
   "cell_type": "code",
   "execution_count": 24,
   "id": "105829b6-7452-4927-97dc-14e3d6aebd70",
   "metadata": {},
   "outputs": [
    {
     "data": {
      "text/plain": [
       "[4.1, 11.83, 4]"
      ]
     },
     "execution_count": 24,
     "metadata": {},
     "output_type": "execute_result"
    }
   ],
   "source": [
    "ops.sum([3.1, 10.83, 3], 1)"
   ]
  },
  {
   "cell_type": "code",
   "execution_count": 25,
   "id": "a317a2e3-ca28-4d15-9fe9-5f3f3a5ac9d7",
   "metadata": {},
   "outputs": [
    {
     "data": {
      "text/plain": [
       "[6.2, 21.66, 6]"
      ]
     },
     "execution_count": 25,
     "metadata": {},
     "output_type": "execute_result"
    }
   ],
   "source": [
    "ops.sum([3.1, 10.83, 3], [3.1, 10.83, 3])"
   ]
  },
  {
   "cell_type": "markdown",
   "id": "6dd43ba1-4c44-47ff-95c2-6cbee86fef86",
   "metadata": {
    "jp-MarkdownHeadingCollapsed": true,
    "tags": []
   },
   "source": [
    "## Multiply"
   ]
  },
  {
   "cell_type": "code",
   "execution_count": 28,
   "id": "0e0a4f23-5e55-4ccb-a3a4-6bd705eb57f3",
   "metadata": {},
   "outputs": [
    {
     "data": {
      "text/plain": [
       "6"
      ]
     },
     "execution_count": 28,
     "metadata": {},
     "output_type": "execute_result"
    }
   ],
   "source": [
    "ops.multiply(3, 2)"
   ]
  },
  {
   "cell_type": "code",
   "execution_count": 29,
   "id": "7d22b654-3909-46d0-9c7f-e5f103c9c8c6",
   "metadata": {},
   "outputs": [
    {
     "data": {
      "text/plain": [
       "10"
      ]
     },
     "execution_count": 29,
     "metadata": {},
     "output_type": "execute_result"
    }
   ],
   "source": [
    "ops.multiply(10)"
   ]
  },
  {
   "cell_type": "code",
   "execution_count": 30,
   "id": "0e6f5470-231e-4425-9f4f-35abf4bfa271",
   "metadata": {},
   "outputs": [
    {
     "data": {
      "text/plain": [
       "2362.5"
      ]
     },
     "execution_count": 30,
     "metadata": {},
     "output_type": "execute_result"
    }
   ],
   "source": [
    "ops.multiply([10.5,10,3.75,6])"
   ]
  },
  {
   "cell_type": "code",
   "execution_count": 32,
   "id": "521f64d5-a3d7-4dc0-8415-c04cc951440a",
   "metadata": {},
   "outputs": [
    {
     "data": {
      "text/plain": [
       "[6.2, 21.66, 6]"
      ]
     },
     "execution_count": 32,
     "metadata": {},
     "output_type": "execute_result"
    }
   ],
   "source": [
    "ops.multiply(2, [3.1, 10.83, 3])"
   ]
  },
  {
   "cell_type": "code",
   "execution_count": 33,
   "id": "498c07f2-94f5-4a45-a9fa-6240b82a8b1f",
   "metadata": {},
   "outputs": [
    {
     "data": {
      "text/plain": [
       "[6.2, 21.66, 6]"
      ]
     },
     "execution_count": 33,
     "metadata": {},
     "output_type": "execute_result"
    }
   ],
   "source": [
    "ops.multiply([3.1, 10.83, 3],2)"
   ]
  },
  {
   "cell_type": "code",
   "execution_count": 35,
   "id": "e15c0d3a-edf0-421a-8201-00175325faf5",
   "metadata": {},
   "outputs": [
    {
     "data": {
      "text/plain": [
       "[9.3, 117.2889, 9]"
      ]
     },
     "execution_count": 35,
     "metadata": {},
     "output_type": "execute_result"
    }
   ],
   "source": [
    "ops.multiply([3, 10.83, 3], [3.1, 10.83, 3])"
   ]
  },
  {
   "cell_type": "code",
   "execution_count": null,
   "id": "ec74d2c1-f2b3-4316-8585-d23e2bcd76c3",
   "metadata": {},
   "outputs": [],
   "source": []
  }
 ],
 "metadata": {
  "kernelspec": {
   "display_name": "Python 3 (ipykernel)",
   "language": "python",
   "name": "python3"
  },
  "language_info": {
   "codemirror_mode": {
    "name": "ipython",
    "version": 3
   },
   "file_extension": ".py",
   "mimetype": "text/x-python",
   "name": "python",
   "nbconvert_exporter": "python",
   "pygments_lexer": "ipython3",
   "version": "3.8.10"
  }
 },
 "nbformat": 4,
 "nbformat_minor": 5
}
