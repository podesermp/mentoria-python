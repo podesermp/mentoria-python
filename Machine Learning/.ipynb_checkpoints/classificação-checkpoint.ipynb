{
 "cells": [
  {
   "cell_type": "code",
   "execution_count": 1,
   "id": "b1709be0-7b38-4c7e-8296-917bde090073",
   "metadata": {},
   "outputs": [],
   "source": [
    "from sklearn.datasets import fetch_openml\n",
    "\n",
    "\n",
    "import numpy as np\n",
    "import matplotlib\n",
    "import matplotlib.pyplot as plt"
   ]
  },
  {
   "cell_type": "code",
   "execution_count": 2,
   "id": "f7eabc09-df4d-48f4-8693-f2242edafad8",
   "metadata": {},
   "outputs": [],
   "source": [
    "mnist = fetch_openml(data_id=554)"
   ]
  },
  {
   "cell_type": "code",
   "execution_count": 4,
   "id": "90ec9939-d563-4e8f-93bf-1fbc8b2d9893",
   "metadata": {},
   "outputs": [],
   "source": [
    "def printDigit(pixels):\n",
    "    \n",
    "    some_digit = pixels\n",
    "    some_digit_image = some_digit.reshape(28,28)\n",
    "\n",
    "    plt.imshow(some_digit_image, cmap=matplotlib.cm.binary, interpolation='nearest')\n",
    "\n",
    "    plt.axis('off')\n",
    "    plt.show()"
   ]
  },
  {
   "cell_type": "code",
   "execution_count": 5,
   "id": "0b7916f3-9653-4315-88aa-503656e67601",
   "metadata": {},
   "outputs": [
    {
     "data": {
      "text/plain": [
       "dict_keys(['data', 'target', 'frame', 'categories', 'feature_names', 'target_names', 'DESCR', 'details', 'url'])"
      ]
     },
     "execution_count": 5,
     "metadata": {},
     "output_type": "execute_result"
    }
   ],
   "source": [
    "mnist.keys()"
   ]
  },
  {
   "cell_type": "code",
   "execution_count": 6,
   "id": "5ca93cf2-babf-49a2-8f57-1dcf032f510d",
   "metadata": {},
   "outputs": [],
   "source": [
    "X, y = mnist['data'], mnist['target']\n",
    "\n",
    "y = np.uint(y)\n",
    "X = X.to_numpy()"
   ]
  },
  {
   "cell_type": "code",
   "execution_count": 7,
   "id": "9782a23d-c802-439c-9221-f90265bdf460",
   "metadata": {},
   "outputs": [
    {
     "data": {
      "image/png": "[encoded data removed]",
      "text/plain": [
       "<Figure size 432x288 with 1 Axes>"
      ]
     },
     "metadata": {
      "needs_background": "light"
     },
     "output_type": "display_data"
    }
   ],
   "source": [
    "some_digit = X[3]\n",
    "some_digit_image = some_digit.reshape(28,28)\n",
    "\n",
    "\n",
    "plt.imshow(some_digit_image, cmap=matplotlib.cm.binary, interpolation='nearest')\n",
    "\n",
    "plt.axis('off')\n",
    "plt.show()"
   ]
  },
  {
   "cell_type": "code",
   "execution_count": 8,
   "id": "6006d837-7880-4500-9ccd-6d316defae39",
   "metadata": {},
   "outputs": [
    {
     "data": {
      "text/plain": [
       "1"
      ]
     },
     "execution_count": 8,
     "metadata": {},
     "output_type": "execute_result"
    }
   ],
   "source": [
    "y[3]"
   ]
  },
  {
   "cell_type": "code",
   "execution_count": 9,
   "id": "c1dcd4ce-1962-4923-85aa-61d7e81de309",
   "metadata": {},
   "outputs": [],
   "source": [
    "X_train, X_test, y_train, y_test = X[:60000], X[60000:], y[:60000], y[60000:]\n",
    "\n",
    "shuffle_index = np.random.permutation(60000)\n",
    "\n",
    "X_train, y_train = X_train[shuffle_index], y_train[shuffle_index]"
   ]
  },
  {
   "cell_type": "code",
   "execution_count": 10,
   "id": "55455017-643d-41ff-9ab8-896809bacf97",
   "metadata": {},
   "outputs": [
    {
     "name": "stdout",
     "output_type": "stream",
     "text": [
      "y_train: 6\n"
     ]
    },
    {
     "data": {
      "image/png": "[encoded data removed]",
      "text/plain": [
       "<Figure size 432x288 with 1 Axes>"
      ]
     },
     "metadata": {
      "needs_background": "light"
     },
     "output_type": "display_data"
    }
   ],
   "source": [
    "pos = 3601\n",
    "\n",
    "print(f\"y_train: {y_train[pos]}\")\n",
    "printDigit(X_train[pos])"
   ]
  },
  {
   "cell_type": "markdown",
   "id": "3f79cac2-5e91-44ad-9543-347d2108f527",
   "metadata": {},
   "source": [
    "# Treinando um classificador binário"
   ]
  },
  {
   "cell_type": "code",
   "execution_count": 11,
   "id": "f9056d5a-2d57-4c09-8a47-74dc29a48e3f",
   "metadata": {},
   "outputs": [],
   "source": [
    "y_train_5 = (y_train == 5)\n",
    "y_test_5 = (y_test == 5)"
   ]
  },
  {
   "cell_type": "code",
   "execution_count": 12,
   "id": "d4d89aed-e6f5-4b00-a59e-d50f91c50d8e",
   "metadata": {},
   "outputs": [
    {
     "data": {
      "text/plain": [
       "SGDClassifier(random_state=1)"
      ]
     },
     "execution_count": 12,
     "metadata": {},
     "output_type": "execute_result"
    }
   ],
   "source": [
    "from sklearn.linear_model import SGDClassifier\n",
    "\n",
    "sgd_clf = SGDClassifier(random_state=1)\n",
    "sgd_clf.fit(X_train, y_train_5)"
   ]
  },
  {
   "cell_type": "code",
   "execution_count": 13,
   "id": "ecb114bb-1d0f-4e8b-bc90-a74af611c331",
   "metadata": {},
   "outputs": [
    {
     "data": {
      "text/plain": [
       "array([ True])"
      ]
     },
     "execution_count": 13,
     "metadata": {},
     "output_type": "execute_result"
    }
   ],
   "source": [
    "# sgd_clf.predict([X[0]])\n",
    "sgd_clf.score()"
   ]
  },
  {
   "cell_type": "code",
   "execution_count": 19,
   "id": "1b37548c-02d2-44e5-ab7c-b1380a63a919",
   "metadata": {},
   "outputs": [],
   "source": [
    "from sklearn.model_selection import cross_val_score, cross_val_predict\n",
    "\n",
    "score5 = cross_val_score(estimator=sgd_clf, X=X_train, y=y_train_5, cv=3, scoring='accuracy')"
   ]
  },
  {
   "cell_type": "code",
   "execution_count": 20,
   "id": "883e1671-9d48-4a60-b604-8f1bd1a4a189",
   "metadata": {},
   "outputs": [
    {
     "data": {
      "text/plain": [
       "array([0.96695, 0.9529 , 0.96875])"
      ]
     },
     "execution_count": 20,
     "metadata": {},
     "output_type": "execute_result"
    }
   ],
   "source": [
    "score5"
   ]
  },
  {
   "cell_type": "code",
   "execution_count": 21,
   "id": "194469d2-f7ff-4eb3-8ad5-50f80609b69f",
   "metadata": {},
   "outputs": [],
   "source": [
    "from sklearn.base import BaseEstimator\n",
    "\n",
    "class Never5Classifier(BaseEstimator):\n",
    "    def fit(self, X, y=None):\n",
    "        return self\n",
    "    def predict(self, X):\n",
    "        return np.zeros((len(X), 1), dtype=bool)"
   ]
  },
  {
   "cell_type": "code",
   "execution_count": 22,
   "id": "a415d7c4-0ecb-4ff7-b0df-21541902b166",
   "metadata": {},
   "outputs": [],
   "source": [
    "never_5_clf = Never5Classifier()\n",
    "\n",
    "scoreNot5 = cross_val_score(estimator=never_5_clf, X=X_train, y=y_train_5, cv=3, scoring='accuracy')"
   ]
  },
  {
   "cell_type": "code",
   "execution_count": 23,
   "id": "c96f87ec-10bb-4108-87ac-146512200b36",
   "metadata": {},
   "outputs": [
    {
     "data": {
      "text/plain": [
       "array([0.9086 , 0.9094 , 0.91095])"
      ]
     },
     "execution_count": 23,
     "metadata": {},
     "output_type": "execute_result"
    }
   ],
   "source": [
    "scoreNot5"
   ]
  },
  {
   "cell_type": "code",
   "execution_count": 29,
   "id": "0de60636-ef78-4247-9a54-f36893200deb",
   "metadata": {},
   "outputs": [],
   "source": [
    "y_train_pred = cross_val_predict(sgd_clf, X_train, y_train_5, cv=3)"
   ]
  },
  {
   "cell_type": "code",
   "execution_count": 30,
   "id": "b6bacd08-97a1-46bf-8dd5-fe97037041e0",
   "metadata": {},
   "outputs": [
    {
     "data": {
      "text/plain": [
       "array([[53427,  1152],\n",
       "       [ 1076,  4345]])"
      ]
     },
     "execution_count": 30,
     "metadata": {},
     "output_type": "execute_result"
    }
   ],
   "source": [
    "from sklearn.metrics import confusion_matrix\n",
    "cf_matrix = confusion_matrix(y_train_5, y_train_pred)\n",
    "cf_matrix"
   ]
  },
  {
   "cell_type": "code",
   "execution_count": 31,
   "id": "55a3dd98-d5c1-4086-bc30-fea545013aea",
   "metadata": {},
   "outputs": [
    {
     "data": {
      "text/plain": [
       "<AxesSubplot:>"
      ]
     },
     "execution_count": 31,
     "metadata": {},
     "output_type": "execute_result"
    },
    {
     "data": {
      "image/png": "[encoded data removed]",
      "text/plain": [
       "<Figure size 432x288 with 2 Axes>"
      ]
     },
     "metadata": {
      "needs_background": "light"
     },
     "output_type": "display_data"
    }
   ],
   "source": [
    "import seaborn as sns\n",
    "# plt.figure(figsize=(10,10))\n",
    "sns.heatmap(cf_matrix, annot=True)"
   ]
  },
  {
   "cell_type": "code",
   "execution_count": 32,
   "id": "559cbf3d-b58f-43af-9ffb-6ff4da8725ad",
   "metadata": {},
   "outputs": [
    {
     "data": {
      "text/plain": [
       "<AxesSubplot:>"
      ]
     },
     "execution_count": 32,
     "metadata": {},
     "output_type": "execute_result"
    },
    {
     "data": {
      "image/png": "[encoded data removed]",
      "text/plain": [
       "<Figure size 432x288 with 2 Axes>"
      ]
     },
     "metadata": {
      "needs_background": "light"
     },
     "output_type": "display_data"
    }
   ],
   "source": [
    "sns.heatmap(cf_matrix/np.sum(cf_matrix), annot=True, fmt='.2%', cmap='Blues')"
   ]
  },
  {
   "cell_type": "code",
   "execution_count": 33,
   "id": "9b2431fd-24f5-48b2-9cd2-882bcc311b3b",
   "metadata": {},
   "outputs": [
    {
     "data": {
      "text/plain": [
       "<AxesSubplot:>"
      ]
     },
     "execution_count": 33,
     "metadata": {},
     "output_type": "execute_result"
    },
    {
     "data": {
      "image/png": "[encoded data removed]",
      "text/plain": [
       "<Figure size 432x288 with 2 Axes>"
      ]
     },
     "metadata": {
      "needs_background": "light"
     },
     "output_type": "display_data"
    }
   ],
   "source": [
    "group_names = ['True Neg','False Pos','False Neg','True Pos']\n",
    "group_counts = [\"{0:0.0f}\".format(value) for value in\n",
    "                cf_matrix.flatten()]\n",
    "group_percentages = [\"{0:.2%}\".format(value) for value in\n",
    "                     cf_matrix.flatten()/np.sum(cf_matrix)]\n",
    "labels = [f\"{v1}\\n{v2}\\n{v3}\" for v1, v2, v3 in\n",
    "          zip(group_names,group_counts,group_percentages)]\n",
    "labels = np.asarray(labels).reshape(2,2)\n",
    "\n",
    "sns.heatmap(cf_matrix, annot=labels, fmt='', cmap='Blues')"
   ]
  },
  {
   "cell_type": "markdown",
   "id": "2458b20d-aa3d-47d6-b483-69b2a72cc20f",
   "metadata": {},
   "source": [
    "# Classificação Multilabel"
   ]
  },
  {
   "cell_type": "code",
   "execution_count": 34,
   "id": "4234ba98-634e-401f-8456-fd037678f372",
   "metadata": {},
   "outputs": [
    {
     "name": "stdout",
     "output_type": "stream",
     "text": [
      "8\n",
      "[[ True False]]\n"
     ]
    }
   ],
   "source": [
    "from sklearn.neighbors import KNeighborsClassifier\n",
    "\n",
    "y_train_large = (y_train >= 7) # cria um array bool com True para números maiores ou iguais a 7\n",
    "y_train_odd = (y_train % 2 == 1) # cris um array bool com True para os números ímpares\n",
    "y_multilabel = np.c_[y_train_large, y_train_odd]\n",
    "\n",
    "knn_clf = KNeighborsClassifier()\n",
    "knn_clf.fit(X_train, y_multilabel)\n",
    "\n",
    "pos = 17\n",
    "print(y[pos])\n",
    "print(knn_clf.predict([X[pos]]))"
   ]
  },
  {
   "cell_type": "code",
   "execution_count": 34,
   "id": "0ce0a614-e58f-4ba5-bac5-ea4b93566fe4",
   "metadata": {},
   "outputs": [],
   "source": [
    "####### ISSO CRASHOUU\n",
    "# y_train_knn_pred = cross_val_predict(knn_clf, X_train, y_multilabel, cv=3)\n",
    "# f1_score(y_multilabel, y_train_knn_pred, average=\"macro\")"
   ]
  },
  {
   "cell_type": "code",
   "execution_count": 35,
   "id": "3e5a9be1-db00-4fc2-bc7d-689d21b69510",
   "metadata": {},
   "outputs": [
    {
     "data": {
      "image/png": "[encoded data removed]",
      "text/plain": [
       "<Figure size 432x288 with 1 Axes>"
      ]
     },
     "metadata": {
      "needs_background": "light"
     },
     "output_type": "display_data"
    },
    {
     "data": {
      "image/png": "[encoded data removed]",
      "text/plain": [
       "<Figure size 432x288 with 1 Axes>"
      ]
     },
     "metadata": {
      "needs_background": "light"
     },
     "output_type": "display_data"
    }
   ],
   "source": [
    "noise = np.random.randint(0,100, (len(X_train), 784))\n",
    "X_train_mod = X_train+noise\n",
    "noise = np.random.randint(0,100, (len(X_test), 784))\n",
    "X_test_mod = X_test + noise\n",
    "y_train_mod = X_train\n",
    "y_test_mod = X_test\n",
    "\n",
    "pos = 0\n",
    "\n",
    "printDigit(X_test_mod[pos])\n",
    "printDigit(X_test[pos])"
   ]
  },
  {
   "cell_type": "code",
   "execution_count": 36,
   "id": "10c54641-3c51-4e1b-9848-3528030627fa",
   "metadata": {},
   "outputs": [
    {
     "data": {
      "image/png": "[encoded data removed]",
      "text/plain": [
       "<Figure size 432x288 with 1 Axes>"
      ]
     },
     "metadata": {
      "needs_background": "light"
     },
     "output_type": "display_data"
    }
   ],
   "source": [
    "knn_clf.fit(X_train_mod, y_train_mod)\n",
    "clean_digit = knn_clf.predict([X_test_mod[pos]])\n",
    "printDigit(clean_digit)"
   ]
  },
  {
   "cell_type": "markdown",
   "id": "22beb65d-f7a8-4769-ae2d-8021d2fc28fb",
   "metadata": {},
   "source": [
    "# Classificação com redes neurais"
   ]
  },
  {
   "cell_type": "code",
   "execution_count": 7,
   "id": "5fb4b919-743f-47e0-b9cd-8463acd60b3e",
   "metadata": {},
   "outputs": [],
   "source": [
    "from sklearn.neural_network import MLPClassifier\n",
    "# max_iter é o número de épocas\n",
    "# mode.score() em redes neuráis são a acurácia(taxa de acerto)"
   ]
  },
  {
   "cell_type": "code",
   "execution_count": 8,
   "id": "17cf5734-aa9b-47ef-b3ee-c907b70fd92d",
   "metadata": {},
   "outputs": [
    {
     "data": {
      "text/plain": [
       "MLPClassifier(hidden_layer_sizes=(128, 64))"
      ]
     },
     "execution_count": 8,
     "metadata": {},
     "output_type": "execute_result"
    }
   ],
   "source": [
    "model = MLPClassifier(hidden_layer_sizes=(128, 64), max_iter=200)\n",
    "model.fit(X_train, y_train)"
   ]
  },
  {
   "cell_type": "code",
   "execution_count": 9,
   "id": "2e8e5aee-8470-4ed3-9ec3-0610c61564f7",
   "metadata": {},
   "outputs": [
    {
     "data": {
      "text/plain": [
       "array([6], dtype=uint64)"
      ]
     },
     "execution_count": 9,
     "metadata": {},
     "output_type": "execute_result"
    }
   ],
   "source": [
    "model.predict([X[69999]])"
   ]
  },
  {
   "cell_type": "code",
   "execution_count": 10,
   "id": "6732ff70-7392-412c-bb7a-b45c9f918571",
   "metadata": {},
   "outputs": [
    {
     "data": {
      "text/plain": [
       "0.9736"
      ]
     },
     "execution_count": 10,
     "metadata": {},
     "output_type": "execute_result"
    }
   ],
   "source": [
    "model.score(X_test, y_test)"
   ]
  },
  {
   "cell_type": "code",
   "execution_count": null,
   "id": "b249d050-fd30-4271-bc44-c6799e61b2a2",
   "metadata": {},
   "outputs": [],
   "source": [
    "from sklearn.model_selection import GridSearchCV\n",
    "param_grid={\n",
    "    #'hidden_layer_sizes': np.array([(256,128),(256,128,64)], dtype=object)\n",
    "    'max_iter': np.arange(0, 300, 100)\n",
    "}\n",
    "\n",
    "# grid_search = GridSearchCV(RandomForestRegressor(), params_grid, scoring='neg_mean_squared_error', cv=10, n_jobs=-1)\n",
    "\n",
    "grid_search = GridSearchCV(MLPClassifier(), param_grid, scoring='accuracy', cv=2, n_jobs=-1)\n",
    "grid_search.fit(X_train, y_train)"
   ]
  },
  {
   "cell_type": "code",
   "execution_count": 75,
   "id": "9542cabf-c425-4673-9fb4-10eb2812c39d",
   "metadata": {},
   "outputs": [],
   "source": [
    "a = np.array([(256,128),(256,128,64)], dtype=object)"
   ]
  },
  {
   "cell_type": "code",
   "execution_count": null,
   "id": "c87c7630-0906-42c7-9644-d381e88974aa",
   "metadata": {},
   "outputs": [],
   "source": []
  }
 ],
 "metadata": {
  "kernelspec": {
   "display_name": "Python 3 (ipykernel)",
   "language": "python",
   "name": "python3"
  },
  "language_info": {
   "codemirror_mode": {
    "name": "ipython",
    "version": 3
   },
   "file_extension": ".py",
   "mimetype": "text/x-python",
   "name": "python",
   "nbconvert_exporter": "python",
   "pygments_lexer": "ipython3",
   "version": "3.8.10"
  }
 },
 "nbformat": 4,
 "nbformat_minor": 5
}
