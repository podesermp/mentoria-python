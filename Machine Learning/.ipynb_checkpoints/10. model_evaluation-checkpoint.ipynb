{
 "cells": [
  {
   "cell_type": "markdown",
   "id": "26cce08f-c489-459d-9c4f-e844e733c895",
   "metadata": {},
   "source": [
    "# 1. Avaliando a Performance do Modelo\n",
    "* Foi visto que a maneira correta de avaliar um modelo é separar o conjunto de dados disponível em uma parte para treinamento e uma parte para testes. Para isso foi utilizada a função *train_test_split*. No entanto, uma maneira ainda melhor de avaliar o modelo é fazer esse mesmo procedimento várias vezes e calcular a média e o desvio padrão da métrica utilizada para a avaliação.\n",
    "* O *scikit-learn* fornece uma ótima ferramenta para isso: a função *cross_val_score*. Esta função se utilizada da validação cruzada para separar conjuntos de testes distintos do conjunto de dados completo.\n",
    "* Por exemplo, suponha que se deseja realizar 10 repetições seguinda a metodologia citada acima. O método de validação cruzada separa o conjunto de dados em 10 *folds* em que cada *fold* contém 10% da quantidade dos dados (isto é, se há apenas 100 padrões disponíveis, então cada *fold* terá 10 padrões).\n",
    "* Para cada repetição é usado 1 *fold* para ser o conjunto de testes enquanto que os restante dos dados (90% dos dados) é usado para treinamento.\n",
    "\n",
    "*Nota: link da documentação do cross_val_score: https://scikit-learn.org/stable/modules/generated/sklearn.model_selection.cross_val_score.html.*\n",
    "\n",
    "* Principais parâmetros da função *cross_val_score*:\n",
    "    - estimator: instância do modelo que se deseja avaliar\n",
    "    - X: array com os padrões de entrada\n",
    "    - y: array com as saídas a serem previstas\n",
    "    - cv: quantidade de *folds* (neste caso, quantas repetições se deseja realizar)\n",
    "    - scoring: função para calcular a performance do modelo\n",
    "\n",
    "## 1.1 Exercício\n",
    "1. Utilizando o conjunto de dados *brazilian_houses_to_rent* adapte o processo de avaliação dos modelos (Regressão Linear e Random Forest) usando a função cross_val_score.\n",
    "2. Utilize o *mean_squared_error* como função para calcular os scores.\n",
    "3. Calcule a média e o desvio padrão dos scores."
   ]
  },
  {
   "cell_type": "code",
   "execution_count": 2,
   "id": "2911be81-f4d2-409c-886a-2bbb70c22ef1",
   "metadata": {},
   "outputs": [
    {
     "data": {
      "text/html": [
       "<div>\n",
       "<style scoped>\n",
       "    .dataframe tbody tr th:only-of-type {\n",
       "        vertical-align: middle;\n",
       "    }\n",
       "\n",
       "    .dataframe tbody tr th {\n",
       "        vertical-align: top;\n",
       "    }\n",
       "\n",
       "    .dataframe thead th {\n",
       "        text-align: right;\n",
       "    }\n",
       "</style>\n",
       "<table border=\"1\" class=\"dataframe\">\n",
       "  <thead>\n",
       "    <tr style=\"text-align: right;\">\n",
       "      <th></th>\n",
       "      <th>city</th>\n",
       "      <th>area</th>\n",
       "      <th>rooms</th>\n",
       "      <th>bathroom</th>\n",
       "      <th>parking spaces</th>\n",
       "      <th>floor</th>\n",
       "      <th>animal</th>\n",
       "      <th>furniture</th>\n",
       "      <th>hoa (R$)</th>\n",
       "      <th>rent amount (R$)</th>\n",
       "      <th>property tax (R$)</th>\n",
       "      <th>fire insurance (R$)</th>\n",
       "      <th>total (R$)</th>\n",
       "    </tr>\n",
       "  </thead>\n",
       "  <tbody>\n",
       "    <tr>\n",
       "      <th>0</th>\n",
       "      <td>São Paulo</td>\n",
       "      <td>70</td>\n",
       "      <td>2</td>\n",
       "      <td>1</td>\n",
       "      <td>1</td>\n",
       "      <td>7</td>\n",
       "      <td>acept</td>\n",
       "      <td>furnished</td>\n",
       "      <td>2065</td>\n",
       "      <td>3300</td>\n",
       "      <td>211</td>\n",
       "      <td>42</td>\n",
       "      <td>5618</td>\n",
       "    </tr>\n",
       "    <tr>\n",
       "      <th>1</th>\n",
       "      <td>São Paulo</td>\n",
       "      <td>320</td>\n",
       "      <td>4</td>\n",
       "      <td>4</td>\n",
       "      <td>0</td>\n",
       "      <td>20</td>\n",
       "      <td>acept</td>\n",
       "      <td>not furnished</td>\n",
       "      <td>1200</td>\n",
       "      <td>4960</td>\n",
       "      <td>1750</td>\n",
       "      <td>63</td>\n",
       "      <td>7973</td>\n",
       "    </tr>\n",
       "    <tr>\n",
       "      <th>2</th>\n",
       "      <td>Porto Alegre</td>\n",
       "      <td>80</td>\n",
       "      <td>1</td>\n",
       "      <td>1</td>\n",
       "      <td>1</td>\n",
       "      <td>6</td>\n",
       "      <td>acept</td>\n",
       "      <td>not furnished</td>\n",
       "      <td>1000</td>\n",
       "      <td>2800</td>\n",
       "      <td>0</td>\n",
       "      <td>41</td>\n",
       "      <td>3841</td>\n",
       "    </tr>\n",
       "    <tr>\n",
       "      <th>3</th>\n",
       "      <td>Porto Alegre</td>\n",
       "      <td>51</td>\n",
       "      <td>2</td>\n",
       "      <td>1</td>\n",
       "      <td>0</td>\n",
       "      <td>2</td>\n",
       "      <td>acept</td>\n",
       "      <td>not furnished</td>\n",
       "      <td>270</td>\n",
       "      <td>1112</td>\n",
       "      <td>22</td>\n",
       "      <td>17</td>\n",
       "      <td>1421</td>\n",
       "    </tr>\n",
       "    <tr>\n",
       "      <th>4</th>\n",
       "      <td>São Paulo</td>\n",
       "      <td>25</td>\n",
       "      <td>1</td>\n",
       "      <td>1</td>\n",
       "      <td>0</td>\n",
       "      <td>1</td>\n",
       "      <td>not acept</td>\n",
       "      <td>not furnished</td>\n",
       "      <td>0</td>\n",
       "      <td>800</td>\n",
       "      <td>25</td>\n",
       "      <td>11</td>\n",
       "      <td>836</td>\n",
       "    </tr>\n",
       "    <tr>\n",
       "      <th>...</th>\n",
       "      <td>...</td>\n",
       "      <td>...</td>\n",
       "      <td>...</td>\n",
       "      <td>...</td>\n",
       "      <td>...</td>\n",
       "      <td>...</td>\n",
       "      <td>...</td>\n",
       "      <td>...</td>\n",
       "      <td>...</td>\n",
       "      <td>...</td>\n",
       "      <td>...</td>\n",
       "      <td>...</td>\n",
       "      <td>...</td>\n",
       "    </tr>\n",
       "    <tr>\n",
       "      <th>10687</th>\n",
       "      <td>Porto Alegre</td>\n",
       "      <td>63</td>\n",
       "      <td>2</td>\n",
       "      <td>1</td>\n",
       "      <td>1</td>\n",
       "      <td>5</td>\n",
       "      <td>not acept</td>\n",
       "      <td>furnished</td>\n",
       "      <td>402</td>\n",
       "      <td>1478</td>\n",
       "      <td>24</td>\n",
       "      <td>22</td>\n",
       "      <td>1926</td>\n",
       "    </tr>\n",
       "    <tr>\n",
       "      <th>10688</th>\n",
       "      <td>São Paulo</td>\n",
       "      <td>285</td>\n",
       "      <td>4</td>\n",
       "      <td>4</td>\n",
       "      <td>4</td>\n",
       "      <td>17</td>\n",
       "      <td>acept</td>\n",
       "      <td>not furnished</td>\n",
       "      <td>3100</td>\n",
       "      <td>15000</td>\n",
       "      <td>973</td>\n",
       "      <td>191</td>\n",
       "      <td>19260</td>\n",
       "    </tr>\n",
       "    <tr>\n",
       "      <th>10689</th>\n",
       "      <td>Rio de Janeiro</td>\n",
       "      <td>70</td>\n",
       "      <td>3</td>\n",
       "      <td>3</td>\n",
       "      <td>0</td>\n",
       "      <td>8</td>\n",
       "      <td>not acept</td>\n",
       "      <td>furnished</td>\n",
       "      <td>980</td>\n",
       "      <td>6000</td>\n",
       "      <td>332</td>\n",
       "      <td>78</td>\n",
       "      <td>7390</td>\n",
       "    </tr>\n",
       "    <tr>\n",
       "      <th>10690</th>\n",
       "      <td>Rio de Janeiro</td>\n",
       "      <td>120</td>\n",
       "      <td>2</td>\n",
       "      <td>2</td>\n",
       "      <td>2</td>\n",
       "      <td>8</td>\n",
       "      <td>acept</td>\n",
       "      <td>furnished</td>\n",
       "      <td>1585</td>\n",
       "      <td>12000</td>\n",
       "      <td>279</td>\n",
       "      <td>155</td>\n",
       "      <td>14020</td>\n",
       "    </tr>\n",
       "    <tr>\n",
       "      <th>10691</th>\n",
       "      <td>São Paulo</td>\n",
       "      <td>80</td>\n",
       "      <td>2</td>\n",
       "      <td>1</td>\n",
       "      <td>0</td>\n",
       "      <td>-</td>\n",
       "      <td>acept</td>\n",
       "      <td>not furnished</td>\n",
       "      <td>0</td>\n",
       "      <td>1400</td>\n",
       "      <td>165</td>\n",
       "      <td>22</td>\n",
       "      <td>1587</td>\n",
       "    </tr>\n",
       "  </tbody>\n",
       "</table>\n",
       "<p>10692 rows × 13 columns</p>\n",
       "</div>"
      ],
      "text/plain": [
       "                 city  area  rooms  bathroom  parking spaces floor     animal  \\\n",
       "0           São Paulo    70      2         1               1     7      acept   \n",
       "1           São Paulo   320      4         4               0    20      acept   \n",
       "2        Porto Alegre    80      1         1               1     6      acept   \n",
       "3        Porto Alegre    51      2         1               0     2      acept   \n",
       "4           São Paulo    25      1         1               0     1  not acept   \n",
       "...               ...   ...    ...       ...             ...   ...        ...   \n",
       "10687    Porto Alegre    63      2         1               1     5  not acept   \n",
       "10688       São Paulo   285      4         4               4    17      acept   \n",
       "10689  Rio de Janeiro    70      3         3               0     8  not acept   \n",
       "10690  Rio de Janeiro   120      2         2               2     8      acept   \n",
       "10691       São Paulo    80      2         1               0     -      acept   \n",
       "\n",
       "           furniture  hoa (R$)  rent amount (R$)  property tax (R$)  \\\n",
       "0          furnished      2065              3300                211   \n",
       "1      not furnished      1200              4960               1750   \n",
       "2      not furnished      1000              2800                  0   \n",
       "3      not furnished       270              1112                 22   \n",
       "4      not furnished         0               800                 25   \n",
       "...              ...       ...               ...                ...   \n",
       "10687      furnished       402              1478                 24   \n",
       "10688  not furnished      3100             15000                973   \n",
       "10689      furnished       980              6000                332   \n",
       "10690      furnished      1585             12000                279   \n",
       "10691  not furnished         0              1400                165   \n",
       "\n",
       "       fire insurance (R$)  total (R$)  \n",
       "0                       42        5618  \n",
       "1                       63        7973  \n",
       "2                       41        3841  \n",
       "3                       17        1421  \n",
       "4                       11         836  \n",
       "...                    ...         ...  \n",
       "10687                   22        1926  \n",
       "10688                  191       19260  \n",
       "10689                   78        7390  \n",
       "10690                  155       14020  \n",
       "10691                   22        1587  \n",
       "\n",
       "[10692 rows x 13 columns]"
      ]
     },
     "execution_count": 2,
     "metadata": {},
     "output_type": "execute_result"
    }
   ],
   "source": [
    "import pandas as pd\n",
    "import numpy as np\n",
    "import matplotlib.pyplot as plt\n",
    "from sklearn.model_selection import cross_val_score\n",
    "from sklearn.linear_model import LinearRegression\n",
    "from sklearn.ensemble import RandomForestRegressor\n",
    "from sklearn.metrics import mean_squared_error, make_scorer\n",
    "from sklearn.preprocessing import OneHotEncoder, OrdinalEncoder\n",
    "\n",
    "data = pd.read_csv(\"./houses_to_rent_v2.csv\")\n",
    "data"
   ]
  },
  {
   "cell_type": "code",
   "execution_count": 3,
   "id": "74768f3e-1f3a-4f44-951f-a4439cbe29fa",
   "metadata": {},
   "outputs": [],
   "source": [
    "# tratamento de dados categóricos e preparação do dataframe para o modelo\n",
    "city_feature = data[['city']].to_numpy()\n",
    "onehot_encoder = OneHotEncoder().fit(city_feature)\n",
    "cat_city = onehot_encoder.transform(city_feature).toarray()\n",
    "\n",
    "categorial_features = data[[\"animal\", \"furniture\"]].to_numpy()\n",
    "ordinal_encoder = OrdinalEncoder().fit(categorial_features)\n",
    "cat_data = ordinal_encoder.transform(categorial_features)\n",
    "\n",
    "data_numeric = data.drop(['city', 'floor', 'animal', 'furniture', 'property tax (R$)', 'fire insurance (R$)', 'total (R$)'], axis = 1)\n",
    "\n",
    "data_all = np.concatenate([data_numeric, cat_city, cat_data], axis=1)"
   ]
  },
  {
   "cell_type": "code",
   "execution_count": 4,
   "id": "8f16e180-0acc-4832-9820-598f36a08298",
   "metadata": {},
   "outputs": [
    {
     "name": "stdout",
     "output_type": "stream",
     "text": [
      "[6126256.94916546 5442231.85989061 5238571.30727611]\n",
      "\n",
      "Média (LinearRegression): 5602353.372110727\n",
      "\n",
      "Desvio padrão (LinearRegression): 379671.45772002486\n"
     ]
    }
   ],
   "source": [
    "# dados tratados estão em data_all\n",
    "\n",
    "score_fn = make_scorer(mean_squared_error)\n",
    "\n",
    "x, y = np.delete(data_all, [5], axis=1), data_all[:,5]\n",
    "performace = cross_val_score(LinearRegression(), x, y, cv=3, scoring=score_fn)\n",
    "print(performace)\n",
    "print(f\"\\nMédia (LinearRegression): {np.average(performace)}\")\n",
    "print(f\"\\nDesvio padrão (LinearRegression): {np.std(performace)}\")"
   ]
  },
  {
   "cell_type": "code",
   "execution_count": 6,
   "id": "d8f6ddb9-ab8f-4415-913a-f985bf14270b",
   "metadata": {},
   "outputs": [
    {
     "name": "stdout",
     "output_type": "stream",
     "text": [
      "[5171533.74490163 4525609.98826151 4708948.50867426]\n",
      "\n",
      "Média (RandomForestRegressor): 4802030.747279135\n",
      "\n",
      "Desvio padrão (RandomForestRegressor): 271787.4196325613\n"
     ]
    }
   ],
   "source": [
    "performace = cross_val_score(RandomForestRegressor(), x, y, cv=3, scoring=score_fn)\n",
    "print(performace)\n",
    "print(f\"\\nMédia (RandomForestRegressor): {np.average(performace)}\")\n",
    "print(f\"\\nDesvio padrão (RandomForestRegressor): {np.std(performace)}\")"
   ]
  },
  {
   "cell_type": "markdown",
   "id": "e372d30a-5c7d-4b37-911e-a8596d6f9598",
   "metadata": {},
   "source": [
    "## 1.2 Exercício\n",
    "* Note que usando apenas a função *cross_val_score* não garante que os *folds* de testes terão os mesmos padrões para a avaliação dos modelos - de fato, os modelos serão avaliados com conjuntos de treinamento e testes diferentes.\n",
    "* Uma maneira de resolver esse problema é utilizando o objeto *KFold*."
   ]
  },
  {
   "cell_type": "code",
   "execution_count": 7,
   "id": "6d24cc39-ea13-4bad-8fcf-56a2ea9e20cc",
   "metadata": {},
   "outputs": [],
   "source": [
    "from sklearn.model_selection import KFold"
   ]
  },
  {
   "cell_type": "code",
   "execution_count": 6,
   "id": "ebae25bd-8189-4678-8f40-d6e78d4f0dd8",
   "metadata": {},
   "outputs": [
    {
     "data": {
      "image/png": "[encoded data removed]",
      "text/plain": [
       "<Figure size 432x288 with 1 Axes>"
      ]
     },
     "metadata": {
      "needs_background": "light"
     },
     "output_type": "display_data"
    }
   ],
   "source": [
    "# gerando um conjunto de dados sintético para exemplificar\n",
    "X = np.linspace(0, 5, 100).reshape(-1, 1)\n",
    "y = np.sin(X.ravel()) + np.random.normal(scale=0.1, size=100)\n",
    "\n",
    "plt.plot(X.ravel(), y, \"xk\")\n",
    "plt.xlabel(\"Input\")\n",
    "plt.ylabel(\"Output\")\n",
    "plt.title(\"Synthetic Dataset\")\n",
    "plt.show()"
   ]
  },
  {
   "cell_type": "code",
   "execution_count": 7,
   "id": "61331fa5-416d-4f4b-bebb-72d79be1cb98",
   "metadata": {},
   "outputs": [
    {
     "data": {
      "text/plain": [
       "[(array([    0,     1,     2, ..., 10689, 10690, 10691]),\n",
       "  array([    7,    38,    44, ..., 10630, 10645, 10653])),\n",
       " (array([    0,     1,     2, ..., 10689, 10690, 10691]),\n",
       "  array([    6,    24,    28, ..., 10674, 10683, 10685])),\n",
       " (array([    0,     1,     2, ..., 10689, 10690, 10691]),\n",
       "  array([   10,    16,    21, ..., 10663, 10669, 10681])),\n",
       " (array([    0,     1,     2, ..., 10689, 10690, 10691]),\n",
       "  array([    4,    17,    22, ..., 10636, 10655, 10686])),\n",
       " (array([    0,     1,     2, ..., 10687, 10689, 10691]),\n",
       "  array([    3,     5,    11, ..., 10676, 10688, 10690])),\n",
       " (array([    0,     1,     2, ..., 10688, 10690, 10691]),\n",
       "  array([   12,    13,    19, ..., 10668, 10680, 10689])),\n",
       " (array([    0,     2,     3, ..., 10688, 10689, 10690]),\n",
       "  array([    1,     8,    35, ..., 10679, 10682, 10691])),\n",
       " (array([    0,     1,     2, ..., 10689, 10690, 10691]),\n",
       "  array([    9,    14,    41, ..., 10658, 10673, 10684])),\n",
       " (array([    1,     2,     3, ..., 10689, 10690, 10691]),\n",
       "  array([    0,    23,    27, ..., 10670, 10675, 10687])),\n",
       " (array([    0,     1,     3, ..., 10689, 10690, 10691]),\n",
       "  array([    2,    15,    18, ..., 10650, 10666, 10678]))]"
      ]
     },
     "execution_count": 7,
     "metadata": {},
     "output_type": "execute_result"
    }
   ],
   "source": [
    "# instanciando o KFold e especificando a quantidade folds\n",
    "k_fold = KFold(n_splits=10, random_state=np.random.RandomState(seed=1), shuffle=True)\n",
    "\n",
    "# obtendo os índices das separações dos folds (no te que os padrões de entrada são fornecidos para a função split)\n",
    "folds = list(k_fold.split(x))\n",
    "\n",
    "# a variável folds é um objeto do tipo generator. Para ver os índices é possível dar um cast para lista\n",
    "# Cada item em folds é uma tupla:\n",
    "# o primeiro elemento de cada tupla são os índices dos padrões que serão usados para treinamento\n",
    "# o segundo índice de cada tupla são os índices dos padrões que serão usados para testes\n",
    "folds"
   ]
  },
  {
   "cell_type": "markdown",
   "id": "f8061948-bac8-4c74-bab6-7f64563b4b84",
   "metadata": {},
   "source": [
    "* Utilizando o *KFold* é possível garantir que os índices de treinamento e testes serão os mesmos ao utilizar a função *cross_val_score*. Para isso é só passar para o parâmetro *cv* o gerador de índices retornado pela função *KFold.split()*.\n",
    "\n",
    "1. Utilizando o conjunto de dados *brazilian_houses_to_rent* adapte o processo de avaliação dos modelos (Regressão Linear e Random Forest) usando as ferramentas *KFold* e *cross_val_score*.\n",
    "2. Utilize o *mean_squared_error* como função para calcular os scores.\n",
    "3. Calcule a média e o desvio padrão dos scores."
   ]
  },
  {
   "cell_type": "code",
   "execution_count": 20,
   "id": "2b176766-1366-4100-9cf6-116349da7351",
   "metadata": {},
   "outputs": [
    {
     "name": "stdout",
     "output_type": "stream",
     "text": [
      "Média (RandomForestRegressor): 5657986.842894107\n",
      "\n",
      "Desvio padrão (RandomForestRegressor): 642833.4796246683\n"
     ]
    }
   ],
   "source": [
    "performace = cross_val_score(LinearRegression(), x, y, cv=folds, scoring=score_fn)\n",
    "\n",
    "save_performance(performace, LinearRegression())\n",
    "\n",
    "print(f\"Média (RandomForestRegressor): {np.average(performace)}\")\n",
    "print(f\"\\nDesvio padrão (RandomForestRegressor): {np.std(performace)}\")"
   ]
  },
  {
   "cell_type": "code",
   "execution_count": 32,
   "id": "86f5abd6-db7e-43fe-a527-21f955e16741",
   "metadata": {},
   "outputs": [
    {
     "name": "stdout",
     "output_type": "stream",
     "text": [
      "Média (RandomForestRegressor): 4812534.787170591\n",
      "\n",
      "Desvio padrão (RandomForestRegressor): 532521.2332584143\n"
     ]
    }
   ],
   "source": [
    "performace = cross_val_score(RandomForestRegressor(), x, y, cv=folds, scoring=score_fn)\n",
    "\n",
    "save_performance(performace, RandomForestRegressor())\n",
    "\n",
    "print(f\"Média (RandomForestRegressor): {np.average(performace)}\")\n",
    "print(f\"\\nDesvio padrão (RandomForestRegressor): {np.std(performace)}\")"
   ]
  },
  {
   "cell_type": "markdown",
   "id": "b9fb7b5e-ed46-4e0c-b8ec-534beac0eadd",
   "metadata": {},
   "source": [
    "## 1.3 Exercício: Salvando um modelo\n",
    "* É importante salvar o modelo bem como os hiper-parâmetros do modelo usado durante o experimento para que seja fácil recuperar cada modelo testado.\n",
    "* Além disso, pode ser interessante salvar os scores obtidos nos experimentos.\n",
    "\n",
    "1. Crie um dicionário com as chaves *scores*, *parameters* e *model*. Atribua á cada chave, repectivamente, os scores obtidos, os hiper-parâmetros do modelo e o modelo utilizado nos experimentos. Os hiper-parâmetros do modelo podem ser acessados facilmente utilizando a função *model.get_params()*.\n",
    "2. Para essa atividade utilize o pacote *pickle*."
   ]
  },
  {
   "cell_type": "code",
   "execution_count": 21,
   "id": "8ce3390d-9a50-49f9-bca7-a97824ef5098",
   "metadata": {},
   "outputs": [
    {
     "data": {
      "text/plain": [
       "{'copy_X': True,\n",
       " 'fit_intercept': True,\n",
       " 'n_jobs': None,\n",
       " 'normalize': 'deprecated',\n",
       " 'positive': False}"
      ]
     },
     "execution_count": 21,
     "metadata": {},
     "output_type": "execute_result"
    }
   ],
   "source": [
    "RandomForestRegressor().get_params()\n",
    "LinearRegression().get_params()"
   ]
  },
  {
   "cell_type": "code",
   "execution_count": 39,
   "id": "1d87d152-b0dd-4e71-85e6-233137645eac",
   "metadata": {},
   "outputs": [],
   "source": [
    "import pickle\n",
    "def save_performance(scores, model):\n",
    "    reports = {\n",
    "        'scores': scores,\n",
    "        'parameters': model.get_params(),\n",
    "        'model': model\n",
    "    }\n",
    "    with open('save_performance.pkl', 'wb') as file:\n",
    "        pickle.dump(reports, file)"
   ]
  },
  {
   "cell_type": "code",
   "execution_count": 40,
   "id": "f8fd3cf7-462c-48d8-ab0a-bb770b98221b",
   "metadata": {},
   "outputs": [],
   "source": [
    "def read_performance():\n",
    "    with open('save_performance.pkl', 'rb') as file:\n",
    "        reports = pickle.load(file)\n",
    "    return reports"
   ]
  },
  {
   "cell_type": "code",
   "execution_count": 41,
   "id": "0af5a984-12c6-4bb3-9685-aa1336d4c0c3",
   "metadata": {},
   "outputs": [
    {
     "data": {
      "text/plain": [
       "array([5959450.64857089, 4429213.21624434, 4323688.08761688,\n",
       "       4799994.78063211, 5143582.14050349, 4609726.39404451,\n",
       "       4629939.67600345, 4538725.42408921, 4184795.38886598,\n",
       "       5506232.11513505])"
      ]
     },
     "execution_count": 41,
     "metadata": {},
     "output_type": "execute_result"
    }
   ],
   "source": [
    "a = read_performance()\n",
    "a['scores']"
   ]
  },
  {
   "cell_type": "markdown",
   "id": "fb64bed5-8eac-4e96-84ee-4896358249fd",
   "metadata": {},
   "source": [
    "# Grid Search"
   ]
  },
  {
   "cell_type": "code",
   "execution_count": 15,
   "id": "df8dbed8-019c-4365-9960-740d41b1c843",
   "metadata": {},
   "outputs": [
    {
     "data": {
      "text/plain": [
       "GridSearchCV(cv=5, estimator=RandomForestRegressor(),\n",
       "             param_grid={'n_estimators': array([ 5, 10, 15, 20, 25, 30, 35, 40, 45, 50, 55, 60, 65, 70, 75, 80, 85,\n",
       "       90, 95])},\n",
       "             scoring='neg_mean_squared_error')"
      ]
     },
     "execution_count": 15,
     "metadata": {},
     "output_type": "execute_result"
    }
   ],
   "source": [
    "from sklearn.model_selection import GridSearchCV\n",
    "\n",
    "param_grid = {\n",
    "    'n_estimators': np.arange(5, 100, 5)\n",
    "}\n",
    "\n",
    "grid_search = GridSearchCV(RandomForestRegressor(), param_grid, cv=5, scoring='neg_mean_squared_error')\n",
    "\n",
    "grid_search.fit(x,y)"
   ]
  },
  {
   "cell_type": "code",
   "execution_count": 16,
   "id": "e5a4378e-c9ec-4616-b1db-92159de45c9d",
   "metadata": {},
   "outputs": [
    {
     "data": {
      "text/plain": [
       "{'n_estimators': 85}"
      ]
     },
     "execution_count": 16,
     "metadata": {},
     "output_type": "execute_result"
    }
   ],
   "source": [
    "grid_search.best_params_"
   ]
  },
  {
   "cell_type": "code",
   "execution_count": 17,
   "id": "17a61ad7-2bf3-47e1-9ca0-4cc38defd78a",
   "metadata": {},
   "outputs": [
    {
     "data": {
      "text/plain": [
       "-4767527.539095642"
      ]
     },
     "execution_count": 17,
     "metadata": {},
     "output_type": "execute_result"
    }
   ],
   "source": [
    "grid_search.best_score_"
   ]
  },
  {
   "cell_type": "code",
   "execution_count": 19,
   "id": "67935513-24bf-4e7b-b2e9-ba2f011a1157",
   "metadata": {},
   "outputs": [
    {
     "data": {
      "text/plain": [
       "4767527.539095642"
      ]
     },
     "execution_count": 19,
     "metadata": {},
     "output_type": "execute_result"
    }
   ],
   "source": [
    "(-grid_search.cv_results_['mean_test_score']).max()"
   ]
  },
  {
   "cell_type": "code",
   "execution_count": 14,
   "id": "f0617629-aa9d-4336-8aa9-786a7ba18765",
   "metadata": {},
   "outputs": [
    {
     "name": "stdout",
     "output_type": "stream",
     "text": [
      "Help on class zip in module builtins:\n",
      "\n",
      "class zip(object)\n",
      " |  zip(*iterables) --> A zip object yielding tuples until an input is exhausted.\n",
      " |  \n",
      " |     >>> list(zip('abcdefg', range(3), range(4)))\n",
      " |     [('a', 0, 0), ('b', 1, 1), ('c', 2, 2)]\n",
      " |  \n",
      " |  The zip object yields n-length tuples, where n is the number of iterables\n",
      " |  passed as positional arguments to zip().  The i-th element in every tuple\n",
      " |  comes from the i-th iterable argument to zip().  This continues until the\n",
      " |  shortest argument is exhausted.\n",
      " |  \n",
      " |  Methods defined here:\n",
      " |  \n",
      " |  __getattribute__(self, name, /)\n",
      " |      Return getattr(self, name).\n",
      " |  \n",
      " |  __iter__(self, /)\n",
      " |      Implement iter(self).\n",
      " |  \n",
      " |  __next__(self, /)\n",
      " |      Implement next(self).\n",
      " |  \n",
      " |  __reduce__(...)\n",
      " |      Return state information for pickling.\n",
      " |  \n",
      " |  ----------------------------------------------------------------------\n",
      " |  Static methods defined here:\n",
      " |  \n",
      " |  __new__(*args, **kwargs) from builtins.type\n",
      " |      Create and return a new object.  See help(type) for accurate signature.\n",
      "\n"
     ]
    }
   ],
   "source": [
    "help(zip)"
   ]
  },
  {
   "cell_type": "code",
   "execution_count": null,
   "id": "02af8832-0964-4439-9e67-039fbc01bcb6",
   "metadata": {},
   "outputs": [],
   "source": []
  }
 ],
 "metadata": {
  "kernelspec": {
   "display_name": "Python 3 (ipykernel)",
   "language": "python",
   "name": "python3"
  },
  "language_info": {
   "codemirror_mode": {
    "name": "ipython",
    "version": 3
   },
   "file_extension": ".py",
   "mimetype": "text/x-python",
   "name": "python",
   "nbconvert_exporter": "python",
   "pygments_lexer": "ipython3",
   "version": "3.8.10"
  }
 },
 "nbformat": 4,
 "nbformat_minor": 5
}
