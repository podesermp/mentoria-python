{
 "cells": [
  {
   "cell_type": "markdown",
   "id": "dd663271-1bc4-4b8c-ac18-2754058c64a1",
   "metadata": {},
   "source": [
    "# 5. Combinando Atributos\n",
    "* Como foi visto o *scikit-learn* possui alguns métodos que aplicam transformação em atributos e variáveis (por exemplo, *StandardScaler* e *OrdinalEncoder*).\n",
    "* No entando, é possível costumizar um transformador seguindo o *pipeline* do *scikit-learn* simplesmente adicionando os métodos *fit*, *transform* e *fit_transform*.\n",
    "* No *scikit-learn* é possível instanciar a classe *TransformerMixim* como classe base do método de transformação cutomizado e o método *fit_transform* já estará implementado.\n",
    "* Ainda, adicionando o *BaseEstimator* como classe base os métodos *get_params* e *set_params* também já estarão implementados (esses métodos podem ser úteis durante a otimização de hiper-parâmetros).\n",
    "\n",
    "## 5.1 Exercício\n",
    "* Usando o conjunto de dados *Brazilian Houses to Rent*, crie um novo atributo, *bathroom_per_rooms* combinando os atributos *rooms* e *bathroom*.\n",
    "\n",
    "1. Use a codificação *one-hot* no atributo *city* e a codificação ordinal para os atributos *animal* e *furniture*.\n",
    "2. Crie um novo atributo, *bathroom_pre_rooms* usando os atributos *rooms* e *bathroom.\n",
    "2. Use os atributos *area, rooms, bathroom, bathroom_per_rooms, parking spaces, hoa, city, animal* e *furniture* para explicar a variável *rent amount*.\n",
    "3. Siga o mesmo procedimento da questão 3.2 descrita no notebook sobre Regressão Linear para comparar a Regressão Linear com o Random Forest para regressão."
   ]
  },
  {
   "cell_type": "code",
   "execution_count": 32,
   "id": "1309ea88-02f9-430f-939b-a7b2a3d5a51f",
   "metadata": {},
   "outputs": [],
   "source": [
    "# bibliotecas\n",
    "import pandas as pd\n",
    "import numpy as np\n",
    "\n",
    "# módulos\n",
    "from sklearn.base import BaseEstimator, TransformerMixin\n",
    "from sklearn.preprocessing import OrdinalEncoder, OneHotEncoder, StandardScaler\n",
    "from sklearn.linear_model import LinearRegression\n",
    "from sklearn.ensemble import RandomForestRegressor\n",
    "from sklearn.model_selection import train_test_split\n",
    "from sklearn.metrics import mean_squared_error"
   ]
  },
  {
   "cell_type": "code",
   "execution_count": 11,
   "id": "2d9ee4b4-8f98-4cc8-a831-fac6593272de",
   "metadata": {},
   "outputs": [
    {
     "data": {
      "text/html": [
       "<div>\n",
       "<style scoped>\n",
       "    .dataframe tbody tr th:only-of-type {\n",
       "        vertical-align: middle;\n",
       "    }\n",
       "\n",
       "    .dataframe tbody tr th {\n",
       "        vertical-align: top;\n",
       "    }\n",
       "\n",
       "    .dataframe thead th {\n",
       "        text-align: right;\n",
       "    }\n",
       "</style>\n",
       "<table border=\"1\" class=\"dataframe\">\n",
       "  <thead>\n",
       "    <tr style=\"text-align: right;\">\n",
       "      <th></th>\n",
       "      <th>area</th>\n",
       "      <th>rooms</th>\n",
       "      <th>bathroom</th>\n",
       "      <th>parking spaces</th>\n",
       "      <th>floor</th>\n",
       "      <th>hoa (R$)</th>\n",
       "      <th>rent amount (R$)</th>\n",
       "      <th>property tax (R$)</th>\n",
       "      <th>fire insurance (R$)</th>\n",
       "      <th>total (R$)</th>\n",
       "    </tr>\n",
       "  </thead>\n",
       "  <tbody>\n",
       "    <tr>\n",
       "      <th>0</th>\n",
       "      <td>70</td>\n",
       "      <td>2</td>\n",
       "      <td>1</td>\n",
       "      <td>1</td>\n",
       "      <td>7</td>\n",
       "      <td>2065</td>\n",
       "      <td>3300</td>\n",
       "      <td>211</td>\n",
       "      <td>42</td>\n",
       "      <td>5618</td>\n",
       "    </tr>\n",
       "    <tr>\n",
       "      <th>1</th>\n",
       "      <td>320</td>\n",
       "      <td>4</td>\n",
       "      <td>4</td>\n",
       "      <td>0</td>\n",
       "      <td>20</td>\n",
       "      <td>1200</td>\n",
       "      <td>4960</td>\n",
       "      <td>1750</td>\n",
       "      <td>63</td>\n",
       "      <td>7973</td>\n",
       "    </tr>\n",
       "    <tr>\n",
       "      <th>2</th>\n",
       "      <td>80</td>\n",
       "      <td>1</td>\n",
       "      <td>1</td>\n",
       "      <td>1</td>\n",
       "      <td>6</td>\n",
       "      <td>1000</td>\n",
       "      <td>2800</td>\n",
       "      <td>0</td>\n",
       "      <td>41</td>\n",
       "      <td>3841</td>\n",
       "    </tr>\n",
       "    <tr>\n",
       "      <th>3</th>\n",
       "      <td>51</td>\n",
       "      <td>2</td>\n",
       "      <td>1</td>\n",
       "      <td>0</td>\n",
       "      <td>2</td>\n",
       "      <td>270</td>\n",
       "      <td>1112</td>\n",
       "      <td>22</td>\n",
       "      <td>17</td>\n",
       "      <td>1421</td>\n",
       "    </tr>\n",
       "    <tr>\n",
       "      <th>4</th>\n",
       "      <td>25</td>\n",
       "      <td>1</td>\n",
       "      <td>1</td>\n",
       "      <td>0</td>\n",
       "      <td>1</td>\n",
       "      <td>0</td>\n",
       "      <td>800</td>\n",
       "      <td>25</td>\n",
       "      <td>11</td>\n",
       "      <td>836</td>\n",
       "    </tr>\n",
       "    <tr>\n",
       "      <th>...</th>\n",
       "      <td>...</td>\n",
       "      <td>...</td>\n",
       "      <td>...</td>\n",
       "      <td>...</td>\n",
       "      <td>...</td>\n",
       "      <td>...</td>\n",
       "      <td>...</td>\n",
       "      <td>...</td>\n",
       "      <td>...</td>\n",
       "      <td>...</td>\n",
       "    </tr>\n",
       "    <tr>\n",
       "      <th>10687</th>\n",
       "      <td>63</td>\n",
       "      <td>2</td>\n",
       "      <td>1</td>\n",
       "      <td>1</td>\n",
       "      <td>5</td>\n",
       "      <td>402</td>\n",
       "      <td>1478</td>\n",
       "      <td>24</td>\n",
       "      <td>22</td>\n",
       "      <td>1926</td>\n",
       "    </tr>\n",
       "    <tr>\n",
       "      <th>10688</th>\n",
       "      <td>285</td>\n",
       "      <td>4</td>\n",
       "      <td>4</td>\n",
       "      <td>4</td>\n",
       "      <td>17</td>\n",
       "      <td>3100</td>\n",
       "      <td>15000</td>\n",
       "      <td>973</td>\n",
       "      <td>191</td>\n",
       "      <td>19260</td>\n",
       "    </tr>\n",
       "    <tr>\n",
       "      <th>10689</th>\n",
       "      <td>70</td>\n",
       "      <td>3</td>\n",
       "      <td>3</td>\n",
       "      <td>0</td>\n",
       "      <td>8</td>\n",
       "      <td>980</td>\n",
       "      <td>6000</td>\n",
       "      <td>332</td>\n",
       "      <td>78</td>\n",
       "      <td>7390</td>\n",
       "    </tr>\n",
       "    <tr>\n",
       "      <th>10690</th>\n",
       "      <td>120</td>\n",
       "      <td>2</td>\n",
       "      <td>2</td>\n",
       "      <td>2</td>\n",
       "      <td>8</td>\n",
       "      <td>1585</td>\n",
       "      <td>12000</td>\n",
       "      <td>279</td>\n",
       "      <td>155</td>\n",
       "      <td>14020</td>\n",
       "    </tr>\n",
       "    <tr>\n",
       "      <th>10691</th>\n",
       "      <td>80</td>\n",
       "      <td>2</td>\n",
       "      <td>1</td>\n",
       "      <td>0</td>\n",
       "      <td>-</td>\n",
       "      <td>0</td>\n",
       "      <td>1400</td>\n",
       "      <td>165</td>\n",
       "      <td>22</td>\n",
       "      <td>1587</td>\n",
       "    </tr>\n",
       "  </tbody>\n",
       "</table>\n",
       "<p>10692 rows × 10 columns</p>\n",
       "</div>"
      ],
      "text/plain": [
       "       area  rooms  bathroom  parking spaces floor  hoa (R$)  \\\n",
       "0        70      2         1               1     7      2065   \n",
       "1       320      4         4               0    20      1200   \n",
       "2        80      1         1               1     6      1000   \n",
       "3        51      2         1               0     2       270   \n",
       "4        25      1         1               0     1         0   \n",
       "...     ...    ...       ...             ...   ...       ...   \n",
       "10687    63      2         1               1     5       402   \n",
       "10688   285      4         4               4    17      3100   \n",
       "10689    70      3         3               0     8       980   \n",
       "10690   120      2         2               2     8      1585   \n",
       "10691    80      2         1               0     -         0   \n",
       "\n",
       "       rent amount (R$)  property tax (R$)  fire insurance (R$)  total (R$)  \n",
       "0                  3300                211                   42        5618  \n",
       "1                  4960               1750                   63        7973  \n",
       "2                  2800                  0                   41        3841  \n",
       "3                  1112                 22                   17        1421  \n",
       "4                   800                 25                   11         836  \n",
       "...                 ...                ...                  ...         ...  \n",
       "10687              1478                 24                   22        1926  \n",
       "10688             15000                973                  191       19260  \n",
       "10689              6000                332                   78        7390  \n",
       "10690             12000                279                  155       14020  \n",
       "10691              1400                165                   22        1587  \n",
       "\n",
       "[10692 rows x 10 columns]"
      ]
     },
     "execution_count": 11,
     "metadata": {},
     "output_type": "execute_result"
    }
   ],
   "source": [
    "data = pd.read_csv(\"./houses_to_rent_v2.csv\")\n",
    "data_numeric= data.drop(['city', 'animal','furniture'], axis =1) # todos os dados numericos ficam em data_numeric - fiz isso para usar esse dataframe com meu novo transformador\n",
    "data_numeric"
   ]
  },
  {
   "cell_type": "code",
   "execution_count": 47,
   "id": "b9a076de-87ec-47eb-9b3b-35c62ce4f4e0",
   "metadata": {},
   "outputs": [
    {
     "data": {
      "text/plain": [
       "array([[0., 0., 0., 0., 1.],\n",
       "       [0., 0., 0., 0., 1.],\n",
       "       [0., 0., 1., 0., 0.],\n",
       "       ...,\n",
       "       [0., 0., 0., 1., 0.],\n",
       "       [0., 0., 0., 1., 0.],\n",
       "       [0., 0., 0., 0., 1.]])"
      ]
     },
     "execution_count": 47,
     "metadata": {},
     "output_type": "execute_result"
    }
   ],
   "source": [
    "# tratamento de dados categóricos\n",
    "city_feature = data[['city']].to_numpy()\n",
    "onehot_encoder = OneHotEncoder().fit(city_feature)\n",
    "cat_city = onehot_encoder.transform(city_feature).toarray()\n",
    "\n",
    "cat_city"
   ]
  },
  {
   "cell_type": "code",
   "execution_count": 13,
   "id": "b528d7d2-7d95-45e4-b23e-e1741cc508f0",
   "metadata": {},
   "outputs": [
    {
     "data": {
      "text/plain": [
       "array([[0., 0.],\n",
       "       [0., 1.],\n",
       "       [0., 1.],\n",
       "       ...,\n",
       "       [1., 0.],\n",
       "       [0., 0.],\n",
       "       [0., 1.]])"
      ]
     },
     "execution_count": 13,
     "metadata": {},
     "output_type": "execute_result"
    }
   ],
   "source": [
    "categorial_features = data[[\"animal\", \"furniture\"]].to_numpy()\n",
    "ordinal_encoder = OrdinalEncoder().fit(categorial_features)\n",
    "cat_data = ordinal_encoder.transform(categorial_features)\n",
    "cat_data"
   ]
  },
  {
   "cell_type": "code",
   "execution_count": 14,
   "id": "c706cfb4-7638-4749-8af3-0554e1091905",
   "metadata": {},
   "outputs": [],
   "source": [
    "rooms_ix, bathroom_ix = 1, 2\n",
    "class CombinedAttributesAdder(BaseEstimator, TransformerMixin):\n",
    "    def fit(self, X, y=None):\n",
    "        return self\n",
    "    def transform(self, X, y=None):\n",
    "        bathroom_per_rooms = X[:, bathroom_ix] / X[:, rooms_ix]\n",
    "        return np.c_[X,bathroom_per_rooms] # np.x_[] faz uma concatenação no axis=1"
   ]
  },
  {
   "cell_type": "code",
   "execution_count": 15,
   "id": "3ca41977-81b0-4973-96a3-0a11c1cfeed1",
   "metadata": {},
   "outputs": [
    {
     "data": {
      "text/plain": [
       "(10692, 11)"
      ]
     },
     "execution_count": 15,
     "metadata": {},
     "output_type": "execute_result"
    }
   ],
   "source": [
    "attr_adder = CombinedAttributesAdder()\n",
    "data_transform = attr_adder.transform(data_numeric.values)\n",
    "data_transform.shape"
   ]
  },
  {
   "cell_type": "code",
   "execution_count": 16,
   "id": "70cfde1a-3bb4-4933-8ae1-85d594d87361",
   "metadata": {},
   "outputs": [
    {
     "data": {
      "text/plain": [
       "(10692, 5)"
      ]
     },
     "execution_count": 16,
     "metadata": {},
     "output_type": "execute_result"
    }
   ],
   "source": [
    "cat_city.shape"
   ]
  },
  {
   "cell_type": "code",
   "execution_count": 17,
   "id": "ad588b21-96a0-43a9-9d0e-47d27a261cae",
   "metadata": {},
   "outputs": [
    {
     "data": {
      "text/plain": [
       "(10692, 2)"
      ]
     },
     "execution_count": 17,
     "metadata": {},
     "output_type": "execute_result"
    }
   ],
   "source": [
    "cat_data.shape"
   ]
  },
  {
   "cell_type": "code",
   "execution_count": 18,
   "id": "7a25ec3f-69bd-41ed-bf3f-087a25c0da44",
   "metadata": {},
   "outputs": [
    {
     "data": {
      "text/plain": [
       "array([[70, 2, 1, ..., 1.0, 0.0, 0.0],\n",
       "       [320, 4, 4, ..., 1.0, 0.0, 1.0],\n",
       "       [80, 1, 1, ..., 0.0, 0.0, 1.0],\n",
       "       ...,\n",
       "       [70, 3, 3, ..., 0.0, 1.0, 0.0],\n",
       "       [120, 2, 2, ..., 0.0, 0.0, 0.0],\n",
       "       [80, 2, 1, ..., 1.0, 0.0, 1.0]], dtype=object)"
      ]
     },
     "execution_count": 18,
     "metadata": {},
     "output_type": "execute_result"
    }
   ],
   "source": [
    "data_all = np.concatenate([data_transform, cat_city, cat_data], axis=1) # falta só fazer a regresão linear do data_all\n",
    "data_all"
   ]
  },
  {
   "cell_type": "code",
   "execution_count": 51,
   "id": "a3ebbb5f-f25d-43b1-8384-49ba353fb457",
   "metadata": {},
   "outputs": [],
   "source": [
    "# op = 1 é regressão linear\n",
    "# op = 2 é random forest\n",
    "\n",
    "def funcRegressaoLinear(x,y,op):\n",
    "    \n",
    "    x_train, x_test, y_train, y_test = train_test_split(x,y, test_size=0.2, random_state=1) #random_state é pra segurar o valores pra testar\n",
    "    \n",
    "    scaler = StandardScaler().fit(x_train)\n",
    "    x_train, x_test = scaler.transform(x_train), scaler.transform(x_test)\n",
    "    \n",
    "    if op == 1:\n",
    "        model = LinearRegression()\n",
    "        model.fit(x_train, y_train)\n",
    "\n",
    "    if op == 2:\n",
    "        model = RandomForestRegressor()\n",
    "        model.fit(x_train,y_train)\n",
    "        \n",
    "    y_hat = model.predict(x_test)\n",
    "    \n",
    "    print(f\"R²: {model.score(x_test, y_test):.2f}\")\n",
    "    print(f\"MSR: {mean_squared_error(y_test, y_hat):.2f}\")"
   ]
  },
  {
   "cell_type": "code",
   "execution_count": 54,
   "id": "234e7e23-bcbd-4e2b-a678-b62190140b18",
   "metadata": {},
   "outputs": [
    {
     "name": "stdout",
     "output_type": "stream",
     "text": [
      "LinearRegression()\n",
      "R²: 0.47\n",
      "MSR: 6554743.19\n"
     ]
    }
   ],
   "source": [
    "print('LinearRegression()')\n",
    "funcRegressaoLinear(np.delete(data_all, [4,6,7,8,9], axis=1), data_all[:,6], 1)"
   ]
  },
  {
   "cell_type": "code",
   "execution_count": 55,
   "id": "cc2eaa19-a1da-46b6-9894-6826742b1fb8",
   "metadata": {},
   "outputs": [
    {
     "name": "stdout",
     "output_type": "stream",
     "text": [
      "RandomForestRegressor()\n",
      "R²: 0.59\n",
      "MSR: 5075851.07\n"
     ]
    }
   ],
   "source": [
    "print('RandomForestRegressor()')\n",
    "funcRegressaoLinear(np.delete(data_all, [4,6,7,8,9], axis=1), data_all[:,6], 2)"
   ]
  },
  {
   "cell_type": "code",
   "execution_count": null,
   "id": "c26a5027-3eb5-4153-be79-b86e61a59ad1",
   "metadata": {},
   "outputs": [],
   "source": []
  },
  {
   "cell_type": "code",
   "execution_count": null,
   "id": "0b5a1455-5e2c-4916-bad9-0c58ba52d6c7",
   "metadata": {},
   "outputs": [],
   "source": []
  },
  {
   "cell_type": "code",
   "execution_count": null,
   "id": "1b2496a0-6a86-475b-b8d5-a593cad0e88f",
   "metadata": {},
   "outputs": [],
   "source": []
  }
 ],
 "metadata": {
  "kernelspec": {
   "display_name": "Python 3 (ipykernel)",
   "language": "python",
   "name": "python3"
  },
  "language_info": {
   "codemirror_mode": {
    "name": "ipython",
    "version": 3
   },
   "file_extension": ".py",
   "mimetype": "text/x-python",
   "name": "python",
   "nbconvert_exporter": "python",
   "pygments_lexer": "ipython3",
   "version": "3.8.10"
  }
 },
 "nbformat": 4,
 "nbformat_minor": 5
}
