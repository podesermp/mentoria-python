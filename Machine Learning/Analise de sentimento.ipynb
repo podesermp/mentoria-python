{
 "cells": [
  {
   "cell_type": "code",
   "execution_count": null,
   "id": "1d7c4bc7-2e1b-4a25-b9be-12d2c8cf163e",
   "metadata": {},
   "outputs": [],
   "source": []
  }
 ],
 "metadata": {
  "kernelspec": {
   "display_name": "Python 3 (ipykernel)",
   "language": "python",
   "name": "python3"
  },
  "language_info": {
   "codemirror_mode": {
    "name": "ipython",
    "version": 3
   },
   "file_extension": ".py",
   "mimetype": "text/x-python",
   "name": "python",
   "nbconvert_exporter": "python",
   "pygments_lexer": "ipython3",
   "version": "3.8.10"
  }
 },
 "nbformat": 4,
 "nbformat_minor": 5
}
