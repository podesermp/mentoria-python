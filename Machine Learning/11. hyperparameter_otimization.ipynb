{
 "cells": [
  {
   "cell_type": "markdown",
   "id": "41f3851f-ffb7-40de-b6fc-67aa5ba182fa",
   "metadata": {},
   "source": [
    "# 1. Otimizando os hiper-parâmetros do modelo: utilizando o *Grid Search*\n",
    "* Uma vez definido os possíveis modelos que serão usados no projeto de *machine learning* é preciso ajustar os hiper-parâmetros desses modelos.\n",
    "* Até o momento, o único modelo que foi visto que se faz necessário ajustar os hiper-parâmetros é o *Random Forest* para regressão (documentação do *Random Forest*: https://scikit-learn.org/stable/modules/generated/sklearn.ensemble.RandomForestRegressor.html).\n",
    "* Um hiper-parâmetro interessante para ser ajustado: \n",
    "    - *n_estimators*: quantidade de árvores na florest.\n",
    "* É possível ir testando vários valores para o *n_estimators* manualmente, o que pode demorar muito. Sabendo disso, é mais interessante utilizar o *GridSearchCV* já fornecido pelo *scikit-learn*.\n",
    "* O *GridSearchCV* realiza uma busca em grade (ou seja, testa todas as combinações dos hiper-parâmetros dados como entrada) e encontra a combinação de hiper-parâmetros que conseguiu o melhor *score* (documentação para o *GridSearchCV*: https://scikit-learn.org/stable/modules/generated/sklearn.model_selection.GridSearchCV.html).\n",
    "* Os valores dos hiper-parâmetros que se deseja percorrer devem ser descritos em um dicionário e dados como entrada para o *GridSearchCV*.\n",
    "* Ainda a função que calcula o *score* deve ser fornecida."
   ]
  },
  {
   "cell_type": "code",
   "execution_count": 32,
   "id": "8602cf11-3b70-4edf-92ea-32ba6ca1388a",
   "metadata": {},
   "outputs": [
    {
     "data": {
      "text/plain": [
       "{'n_estimators': array([ 5, 10, 15, 20, 25, 30, 35, 40, 45, 50, 55, 60, 65, 70, 75, 80, 85,\n",
       "        90, 95])}"
      ]
     },
     "execution_count": 32,
     "metadata": {},
     "output_type": "execute_result"
    }
   ],
   "source": [
    "import numpy as np\n",
    "\n",
    "params_grid = {\"n_estimators\": np.arange(5, 100, 5)}\n",
    "params_grid"
   ]
  },
  {
   "cell_type": "markdown",
   "id": "f73edae1-d1bf-400d-a34e-820c821be982",
   "metadata": {},
   "source": [
    "## 1.1 Exercício\n",
    "1. Utilize o conjunto de dados *brazilian_houses_to_rent* e o modelo *RandomForestRegressor*.\n",
    "2. Através da *GridSearchCV* encontre o melhor valor para o hiper-parâmetro *n_estimators*.\n",
    "3. Para calcular o *score* utilize a função *mean_squared_error*."
   ]
  },
  {
   "cell_type": "code",
   "execution_count": 5,
   "id": "16a845f8-aa45-4cf2-bf28-37b83f826843",
   "metadata": {},
   "outputs": [],
   "source": [
    "import pandas as pd\n",
    "import numpy as np\n",
    "import matplotlib.pyplot as plt\n",
    "from sklearn.model_selection import cross_val_score\n",
    "from sklearn.linear_model import LinearRegression\n",
    "from sklearn.ensemble import RandomForestRegressor\n",
    "from sklearn.metrics import mean_squared_error, make_scorer\n",
    "from sklearn.preprocessing import OneHotEncoder, OrdinalEncoder\n",
    "\n",
    "\n",
    "from sklearn.model_selection import GridSearchCV, RandomizedSearchCV\n",
    "from sklearn.metrics import mean_squared_error, make_scorer"
   ]
  },
  {
   "cell_type": "code",
   "execution_count": 4,
   "id": "73113904-e25f-43e8-a66a-1c413736017a",
   "metadata": {},
   "outputs": [],
   "source": [
    "data = pd.read_csv(\"./houses_to_rent_v2.csv\")\n",
    "\n",
    "# tratamento de dados categóricos e preparação do dataframe para o modelo\n",
    "city_feature = data[['city']].to_numpy()\n",
    "onehot_encoder = OneHotEncoder().fit(city_feature)\n",
    "cat_city = onehot_encoder.transform(city_feature).toarray()\n",
    "\n",
    "categorial_features = data[[\"animal\", \"furniture\"]].to_numpy()\n",
    "ordinal_encoder = OrdinalEncoder().fit(categorial_features)\n",
    "cat_data = ordinal_encoder.transform(categorial_features)\n",
    "\n",
    "data_numeric = data.drop(['city', 'floor', 'animal', 'furniture', 'property tax (R$)', 'fire insurance (R$)', 'total (R$)'], axis = 1)\n",
    "\n",
    "data_all = np.concatenate([data_numeric, cat_city, cat_data], axis=1)\n",
    "\n",
    "x, y = np.delete(data_all, [5], axis=1), data_all[:,5]"
   ]
  },
  {
   "cell_type": "code",
   "execution_count": 6,
   "id": "31b17bb0-0318-4808-8368-4dbae9b24982",
   "metadata": {},
   "outputs": [
    {
     "data": {
      "text/plain": [
       "GridSearchCV(cv=10, estimator=RandomForestRegressor(), n_jobs=-1,\n",
       "             param_grid={'n_estimators': array([ 5, 10, 15, 20, 25, 30, 35, 40, 45, 50, 55, 60, 65, 70, 75, 80, 85,\n",
       "       90, 95])},\n",
       "             scoring='neg_mean_squared_error')"
      ]
     },
     "execution_count": 6,
     "metadata": {},
     "output_type": "execute_result"
    }
   ],
   "source": [
    "scoring = make_scorer(mean_squared_error)\n",
    "\n",
    "grid_search = GridSearchCV(RandomForestRegressor(), params_grid, scoring='neg_mean_squared_error', cv=10, n_jobs=-1)\n",
    "grid_search.fit(x, y)"
   ]
  },
  {
   "cell_type": "code",
   "execution_count": 7,
   "id": "ea07a644-e5f4-4788-8221-dbb22a32a392",
   "metadata": {},
   "outputs": [
    {
     "data": {
      "text/plain": [
       "{'n_estimators': 80}"
      ]
     },
     "execution_count": 7,
     "metadata": {},
     "output_type": "execute_result"
    }
   ],
   "source": [
    "grid_search.best_params_"
   ]
  },
  {
   "cell_type": "code",
   "execution_count": 8,
   "id": "2f3a74f7-76b1-4840-9dbb-39690257b513",
   "metadata": {},
   "outputs": [
    {
     "data": {
      "text/plain": [
       "4770176.6518340325"
      ]
     },
     "execution_count": 8,
     "metadata": {},
     "output_type": "execute_result"
    }
   ],
   "source": [
    "-grid_search.best_score_"
   ]
  },
  {
   "cell_type": "code",
   "execution_count": 9,
   "id": "c3963b45-03c2-443e-b5a9-b248a20ba738",
   "metadata": {},
   "outputs": [
    {
     "data": {
      "text/plain": [
       "4770176.6518340325"
      ]
     },
     "execution_count": 9,
     "metadata": {},
     "output_type": "execute_result"
    }
   ],
   "source": [
    "(-grid_search.cv_results_['mean_test_score']).min()"
   ]
  },
  {
   "cell_type": "code",
   "execution_count": 10,
   "id": "4ab2674a-97a0-4b29-812e-e26dc37386ca",
   "metadata": {},
   "outputs": [
    {
     "name": "stdout",
     "output_type": "stream",
     "text": [
      "5647760.312296626 {'n_estimators': 5}\n",
      "5102016.834431237 {'n_estimators': 10}\n",
      "5062658.941633463 {'n_estimators': 15}\n",
      "4921268.081108653 {'n_estimators': 20}\n",
      "4953949.197783743 {'n_estimators': 25}\n",
      "4859070.305600601 {'n_estimators': 30}\n",
      "4849728.853787752 {'n_estimators': 35}\n",
      "4858993.490738552 {'n_estimators': 40}\n",
      "4792605.469268855 {'n_estimators': 45}\n",
      "4816320.139811057 {'n_estimators': 50}\n",
      "4797505.736705427 {'n_estimators': 55}\n",
      "4795504.412882103 {'n_estimators': 60}\n",
      "4812550.9011331955 {'n_estimators': 65}\n",
      "4796811.410751867 {'n_estimators': 70}\n",
      "4814451.349073672 {'n_estimators': 75}\n",
      "4770176.6518340325 {'n_estimators': 80}\n",
      "4781752.721042233 {'n_estimators': 85}\n",
      "4780635.631284639 {'n_estimators': 90}\n",
      "4783458.142247497 {'n_estimators': 95}\n"
     ]
    }
   ],
   "source": [
    "cvres = grid_search.cv_results_\n",
    "\n",
    "for mean_score, params in zip(cvres[\"mean_test_score\"], cvres[\"params\"]):\n",
    "    print(-mean_score, params)"
   ]
  },
  {
   "cell_type": "code",
   "execution_count": 11,
   "id": "090877d3-cbec-42fd-8981-bc9924bdb220",
   "metadata": {},
   "outputs": [
    {
     "data": {
      "text/plain": [
       "RandomForestRegressor(n_estimators=80)"
      ]
     },
     "execution_count": 11,
     "metadata": {},
     "output_type": "execute_result"
    }
   ],
   "source": [
    "grid_search.best_estimator_"
   ]
  },
  {
   "cell_type": "markdown",
   "id": "06732759-1610-4bdb-b07f-95faca7a4da3",
   "metadata": {},
   "source": [
    "# 2. Uma alternativa ao *Grid Search*: *Randomized Search*\n",
    "* Para poucos combinações de valores o *Grid Search* realiza bem o seu trabalho.\n",
    "* No entanto, quando se tem uma grande quantidade de valores e hiper-parâmetros a serem testados, o processo de validação cruzada pode ser muito demorado.\n",
    "* Uma alternativa é utilizar o *Randomized Search* (*RandomizedSearchCV* no *scikit-learn*: https://scikit-learn.org/stable/modules/generated/sklearn.model_selection.RandomizedSearchCV.html).\n",
    "* Ao contrário do *GridSearchCV*, o *RandomizedSearchCV* não avalia todas as possibilidades de combinações de valores, mas apenas uma parte das combinações obtidas de forma aleatória.\n",
    "* O parâmetros *n_iter* define quantas combinações serão amostradas dos valores fornecidos nos hiper-parâmetros.\n",
    "\n",
    "## 2.1 Exercício\n",
    "1. Utilize o conjunto de dados *brazilian_houses_to_rent* e o modelo *RandomForestRegressor*.\n",
    "2. Através da *RandomizedSearchCV* encontre o melhor valor para os hiper-parâmetros *n_estimators* e *max_features*.\n",
    "3. Para calcular o *score* utilize a função *mean_squared_error*."
   ]
  },
  {
   "cell_type": "code",
   "execution_count": 13,
   "id": "19d3c5a4-dfdd-495f-a031-43a0adada183",
   "metadata": {},
   "outputs": [
    {
     "data": {
      "text/plain": [
       "{'n_estimators': array([ 5, 10, 15, 20, 25, 30, 35, 40, 45, 50, 55, 60, 65, 70, 75, 80, 85,\n",
       "        90, 95]),\n",
       " 'max_features': array([ 2,  4,  6,  8, 10])}"
      ]
     },
     "execution_count": 13,
     "metadata": {},
     "output_type": "execute_result"
    }
   ],
   "source": [
    "num_features = 11\n",
    "param_grid = {\n",
    "    \"n_estimators\": np.arange(5, 100, 5),\n",
    "    \"max_features\": np.arange(2, num_features, 2)\n",
    "}\n",
    "param_grid"
   ]
  },
  {
   "cell_type": "code",
   "execution_count": 23,
   "id": "cbe9a160-0f2b-4746-8ffb-62bb433a52f3",
   "metadata": {},
   "outputs": [
    {
     "data": {
      "text/plain": [
       "RandomizedSearchCV(cv=5, estimator=RandomForestRegressor(), n_jobs=-1,\n",
       "                   param_distributions={'max_features': array([ 2,  4,  6,  8, 10]),\n",
       "                                        'n_estimators': array([ 5, 10, 15, 20, 25, 30, 35, 40, 45, 50, 55, 60, 65, 70, 75, 80, 85,\n",
       "       90, 95])},\n",
       "                   scoring='neg_mean_squared_error')"
      ]
     },
     "execution_count": 23,
     "metadata": {},
     "output_type": "execute_result"
    }
   ],
   "source": [
    "#grid_search = GridSearchCV(RandomForestRegressor(), params_grid, scoring='neg_mean_squared_error', cv=10, n_jobs=-1)\n",
    "search = RandomizedSearchCV(RandomForestRegressor(), param_grid, scoring='neg_mean_squared_error', n_jobs=-1, cv=5)\n",
    "search.fit(x,y)"
   ]
  },
  {
   "cell_type": "code",
   "execution_count": 24,
   "id": "fc08094a-c026-4538-b786-315116b1f6b5",
   "metadata": {},
   "outputs": [
    {
     "data": {
      "text/plain": [
       "RandomForestRegressor(max_features=2, n_estimators=80)"
      ]
     },
     "execution_count": 24,
     "metadata": {},
     "output_type": "execute_result"
    }
   ],
   "source": [
    "search.best_estimator_"
   ]
  },
  {
   "cell_type": "code",
   "execution_count": 25,
   "id": "071a68e1-c72b-4edb-876e-89f53d51c5e8",
   "metadata": {},
   "outputs": [
    {
     "data": {
      "text/plain": [
       "{'n_estimators': 80, 'max_features': 2}"
      ]
     },
     "execution_count": 25,
     "metadata": {},
     "output_type": "execute_result"
    }
   ],
   "source": [
    "search.best_params_"
   ]
  },
  {
   "cell_type": "code",
   "execution_count": 27,
   "id": "d5406398-1080-4c91-8a05-bff59678a5c5",
   "metadata": {},
   "outputs": [
    {
     "data": {
      "text/plain": [
       "4631952.110011336"
      ]
     },
     "execution_count": 27,
     "metadata": {},
     "output_type": "execute_result"
    }
   ],
   "source": [
    "-search.best_score_"
   ]
  },
  {
   "cell_type": "code",
   "execution_count": 30,
   "id": "625e57f7-696e-4095-b6cc-fc643fc9a93a",
   "metadata": {},
   "outputs": [
    {
     "data": {
      "text/plain": [
       "4631952.110011336"
      ]
     },
     "execution_count": 30,
     "metadata": {},
     "output_type": "execute_result"
    }
   ],
   "source": [
    "(-search.cv_results_['mean_test_score']).min()"
   ]
  },
  {
   "cell_type": "code",
   "execution_count": 31,
   "id": "46ed65c8-41e1-4323-8a59-728526835b5a",
   "metadata": {},
   "outputs": [
    {
     "data": {
      "text/plain": [
       "{'mean_fit_time': array([1.29334497, 1.25219402, 2.21405463, 5.08888083, 0.70130019,\n",
       "        2.58004136, 6.23241239, 1.48912811, 1.96745205, 0.93272185]),\n",
       " 'std_fit_time': array([0.32393785, 0.15580854, 0.37248656, 0.7906564 , 0.1166544 ,\n",
       "        0.65043883, 1.16212085, 0.41995578, 0.38981984, 0.22805626]),\n",
       " 'mean_score_time': array([0.10826597, 0.06222501, 0.07137656, 0.22029142, 0.04284515,\n",
       "        0.15611162, 0.15884185, 0.07056031, 0.09240503, 0.02743192]),\n",
       " 'std_score_time': array([0.02605527, 0.01721656, 0.02938346, 0.04744793, 0.0096103 ,\n",
       "        0.04860404, 0.03321149, 0.02100724, 0.0277288 , 0.00879931]),\n",
       " 'param_n_estimators': masked_array(data=[40, 30, 40, 85, 25, 80, 90, 40, 45, 15],\n",
       "              mask=[False, False, False, False, False, False, False, False,\n",
       "                    False, False],\n",
       "        fill_value='?',\n",
       "             dtype=object),\n",
       " 'param_max_features': masked_array(data=[2, 4, 8, 8, 2, 2, 10, 4, 6, 10],\n",
       "              mask=[False, False, False, False, False, False, False, False,\n",
       "                    False, False],\n",
       "        fill_value='?',\n",
       "             dtype=object),\n",
       " 'params': [{'n_estimators': 40, 'max_features': 2},\n",
       "  {'n_estimators': 30, 'max_features': 4},\n",
       "  {'n_estimators': 40, 'max_features': 8},\n",
       "  {'n_estimators': 85, 'max_features': 8},\n",
       "  {'n_estimators': 25, 'max_features': 2},\n",
       "  {'n_estimators': 80, 'max_features': 2},\n",
       "  {'n_estimators': 90, 'max_features': 10},\n",
       "  {'n_estimators': 40, 'max_features': 4},\n",
       "  {'n_estimators': 45, 'max_features': 6},\n",
       "  {'n_estimators': 15, 'max_features': 10}],\n",
       " 'split0_test_score': array([-4734088.24771438, -4687962.89609105, -4779133.84165567,\n",
       "        -4741719.46938323, -4820990.09327908, -4691061.01605511,\n",
       "        -4708077.4522519 , -4690255.5782736 , -4738058.40278492,\n",
       "        -4883290.82741856]),\n",
       " 'split1_test_score': array([-5143246.91234503, -5192364.07058033, -5360061.57309189,\n",
       "        -5325047.55585739, -5203259.47329451, -5040409.66149016,\n",
       "        -5290197.22200992, -5245953.2119519 , -5129269.47445217,\n",
       "        -5575319.10693672]),\n",
       " 'split2_test_score': array([-4100302.56032027, -4015972.73467418, -4174751.01246561,\n",
       "        -4103622.32726804, -4028647.34084432, -4046789.70137932,\n",
       "        -4122330.15840805, -3996962.82313982, -4064611.92151259,\n",
       "        -4229930.83318395]),\n",
       " 'split3_test_score': array([-4770702.79740013, -4856384.29678691, -4861512.79192882,\n",
       "        -4822130.9118365 , -4818378.12693098, -4820568.23170068,\n",
       "        -4909991.22883346, -4726934.26950573, -4816460.64115923,\n",
       "        -5077036.65046678]),\n",
       " 'split4_test_score': array([-4587663.22017339, -4574406.09423096, -4766100.63326745,\n",
       "        -4649409.60789794, -4668741.26139479, -4560931.93943141,\n",
       "        -4745720.44389467, -4619421.09387785, -4677666.02609755,\n",
       "        -5011075.27026796]),\n",
       " 'mean_test_score': array([-4667200.74759064, -4665418.01847268, -4788311.97048189,\n",
       "        -4728385.97444862, -4708003.25914873, -4631952.11001134,\n",
       "        -4755263.3010796 , -4655905.39534978, -4685213.29320129,\n",
       "        -4955330.53765479]),\n",
       " 'std_test_score': array([337492.61798238, 385930.27344176, 376640.57112761, 390266.01681781,\n",
       "        382960.3953355 , 332675.93378545, 377628.64428796, 397471.4781295 ,\n",
       "        347104.41882599, 432134.26854335]),\n",
       " 'rank_test_score': array([ 4,  3,  9,  7,  6,  1,  8,  2,  5, 10], dtype=int32)}"
      ]
     },
     "execution_count": 31,
     "metadata": {},
     "output_type": "execute_result"
    }
   ],
   "source": [
    "search.cv_results_"
   ]
  },
  {
   "cell_type": "code",
   "execution_count": null,
   "id": "0ec61369-c6d5-4c51-b9e5-a1d4e9bebd3c",
   "metadata": {},
   "outputs": [],
   "source": []
  }
 ],
 "metadata": {
  "kernelspec": {
   "display_name": "Python 3 (ipykernel)",
   "language": "python",
   "name": "python3"
  },
  "language_info": {
   "codemirror_mode": {
    "name": "ipython",
    "version": 3
   },
   "file_extension": ".py",
   "mimetype": "text/x-python",
   "name": "python",
   "nbconvert_exporter": "python",
   "pygments_lexer": "ipython3",
   "version": "3.8.10"
  }
 },
 "nbformat": 4,
 "nbformat_minor": 5
}
