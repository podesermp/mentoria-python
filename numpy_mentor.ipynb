{
 "cells": [
  {
   "cell_type": "code",
   "execution_count": 1,
   "id": "9bd293f3-3c73-4169-b253-ef115eea88de",
   "metadata": {},
   "outputs": [],
   "source": [
    "import numpy as np"
   ]
  },
  {
   "cell_type": "code",
   "execution_count": 22,
   "id": "feb58e65-1193-41b8-8d76-7dc5c735be4b",
   "metadata": {},
   "outputs": [
    {
     "name": "stdout",
     "output_type": "stream",
     "text": [
      "type: <class 'numpy.ndarray'>\n",
      "tamanho: (5,)\n",
      "outra forma de ter o tamanho do array: 5\n",
      "do segundo elementos até o quarto: [10  2  3]\n",
      "ultimo elemento: 4\n",
      "todos os elementos antes do 4: [ 1 10  2  3]\n",
      "soma 2 a cada elemento do array [ 1 10  2  3  4]: [ 3 12  4  5  6]\n",
      "dividindo por 2 cada elemento [ 1 10  2  3  4]: [0.5 5.  1.  1.5 2. ]\n",
      "soma de [ 1 10  2  3  4] + [2 3 4 5 1] = [ 3 13  6  8  5]\n",
      "multiplicação de [ 1 10  2  3  4] * [2 3 4 5 1] = [ 2 30  8 15  4]\n"
     ]
    }
   ],
   "source": [
    "a = np.array([1,10,2,3,4])\n",
    "print(f\"type: {type(a)}\")\n",
    "print(f\"tamanho: {a.shape}\")\n",
    "print(f\"outra forma de ter o tamanho do array: {a.size}\") # acredito que esse modo seja melhor\n",
    "print(f\"do segundo elementos até o quarto: {a[1:4]}\")\n",
    "print(f\"ultimo elemento: {a[-1]}\")\n",
    "print(f\"todos os elementos antes do 4: {a[:4]}\")\n",
    "print(f\"soma 2 a cada elemento do array {a}: {a+2}\")\n",
    "print(f\"dividindo por 2 cada elemento {a}: {a/2}\")\n",
    "\n",
    "\n",
    "b = np.array([2, 3, 4, 5, 1])\n",
    "print(f\"soma de {a} + {b} = {a+b}\")\n",
    "print(f\"multiplicação de {a} * {b} = {a*b}\")"
   ]
  },
  {
   "cell_type": "markdown",
   "id": "594ce7e3-2d06-4bf6-9525-67ff983e8fb5",
   "metadata": {},
   "source": [
    "### Funções úteis"
   ]
  },
  {
   "cell_type": "code",
   "execution_count": 33,
   "id": "6a6adc76-cb48-48da-a4fd-d71971416bf0",
   "metadata": {},
   "outputs": [
    {
     "name": "stdout",
     "output_type": "stream",
     "text": [
      "soma de todos os elementos de [ 1 10  2  3  4]: 20\n",
      "média dos elementos de [ 1 10  2  3  4]: 4.0\n",
      "produtório dos elementos de [2 3 4 5 1]: 120\n",
      "maior número de [ 1 10  2  3  4]: 10\n",
      "maior número de [2 3 4 5 1]: 5\n",
      "menor número de [ 1 10  2  3  4]: 1\n",
      "menor número de [2 3 4 5 1]: 1\n",
      "índice do maior numero de [ 1 10  2  3  4]: 1\n",
      "índice do menor numero de [ 1 10  2  3  4]: 0\n"
     ]
    }
   ],
   "source": [
    "print(f\"soma de todos os elementos de {a}: {a.sum()}\")\n",
    "print(f\"média dos elementos de {a}: {a.mean()}\")\n",
    "print(f\"produtório dos elementos de {b}: {b.prod()}\")\n",
    "\n",
    "print(f\"maior número de {a}: {a.max()}\")\n",
    "print(f\"maior número de {b}: {b.max()}\")\n",
    "print(f\"menor número de {a}: {a.min()}\")\n",
    "print(f\"menor número de {b}: {b.min()}\")\n",
    "\n",
    "print(f\"índice do maior numero de {a}: {a.argmax()}\")\n",
    "print(f\"índice do menor numero de {a}: {a.argmin()}\")"
   ]
  },
  {
   "cell_type": "code",
   "execution_count": 45,
   "id": "84337bc0-0ac8-43ad-a4a1-7edc1b88c05d",
   "metadata": {},
   "outputs": [
    {
     "data": {
      "text/plain": [
       "array([ 0. ,  2.5,  5. ,  7.5, 10. ])"
      ]
     },
     "execution_count": 45,
     "metadata": {},
     "output_type": "execute_result"
    }
   ],
   "source": [
    "np.arange(3) # [0 1 2]\n",
    "np.arange(1,5) # [1 2 3 4]\n",
    "np.arange(0, 10, 2) # [0 2 4 6 8]\n",
    "np.linspace(0, 10, num=5) # [0 2.5 5 7.7 10]"
   ]
  },
  {
   "cell_type": "markdown",
   "id": "9678ec37-35ce-4fa5-8784-3dbc69058070",
   "metadata": {},
   "source": [
    "### Matrizes (arrays com duas dimensões)"
   ]
  },
  {
   "cell_type": "code",
   "execution_count": 58,
   "id": "f88b6488-193b-4c9e-b4e4-f4f778ed470f",
   "metadata": {},
   "outputs": [
    {
     "name": "stdout",
     "output_type": "stream",
     "text": [
      "[[0. 0. 0. 0. 0.]\n",
      " [0. 0. 0. 0. 0.]\n",
      " [0. 0. 0. 0. 0.]\n",
      " [0. 0. 0. 0. 0.]\n",
      " [0. 0. 0. 0. 0.]]\n",
      "\n",
      "\n",
      "[[1. 1. 1. 1. 1.]\n",
      " [1. 1. 1. 1. 1.]\n",
      " [1. 1. 1. 1. 1.]\n",
      " [1. 1. 1. 1. 1.]\n",
      " [1. 1. 1. 1. 1.]]\n",
      "\n",
      "\n",
      "[[0.69564462 0.50039893 0.06153755]\n",
      " [0.1361704  0.9356208  0.49898702]\n",
      " [0.69687562 0.62227044 0.69529866]]\n",
      "\n",
      "\n",
      "[[1. 0. 0. 0. 0.]\n",
      " [0. 1. 0. 0. 0.]\n",
      " [0. 0. 1. 0. 0.]\n",
      " [0. 0. 0. 1. 0.]\n",
      " [0. 0. 0. 0. 1.]]\n"
     ]
    }
   ],
   "source": [
    "x_zeros = np.zeros(shape=(5,5)) # Matriz de 0's\n",
    "print(x_zeros)\n",
    "\n",
    "print('\\n')\n",
    "\n",
    "x_ones = np.ones(shape=(5,5))\n",
    "print(x_ones)\n",
    "\n",
    "print('\\n')\n",
    "\n",
    "x_random = np.random.random(size=(3,3))\n",
    "print(x_random)\n",
    "\n",
    "print('\\n')\n",
    "\n",
    "identity = np.eye(5) #matriz identidade 5x5\n",
    "print(identity)"
   ]
  },
  {
   "cell_type": "code",
   "execution_count": 77,
   "id": "c29cc27e-2d7c-4482-ac6d-e7262c20a7a2",
   "metadata": {},
   "outputs": [
    {
     "name": "stdout",
     "output_type": "stream",
     "text": [
      "[[1 4 3]\n",
      " [1 2 3]\n",
      " [1 5 4]]\n",
      "primeira linha: [1 4 3]\n",
      "ultima coluna: [3 3 4]\n",
      "média das linhas: [1.         3.66666667 3.33333333]\n",
      "média das colunas: [2.66666667 2.         3.33333333]\n",
      "soma das colunas: [ 8  6 10]\n",
      "soma das linhas: [ 3 11 10]\n",
      "soma todos os elementos: 24\n",
      "média todos os elementos: 2.6666666666666665\n"
     ]
    }
   ],
   "source": [
    "x = np.array(\n",
    "[[1, 4, 3],\n",
    "[1, 2, 3],\n",
    "[1, 5, 4]]\n",
    ")\n",
    "\n",
    "print(x)\n",
    "print(f\"primeira linha: {x[0,:]}\")\n",
    "print(f\"ultima coluna: {x[:,-1]}\")\n",
    "\n",
    "print(f\"média das linhas: {x.mean(axis=0)}\")\n",
    "print(f\"média das colunas: {x.mean(axis=1)}\")\n",
    "\n",
    "print(f\"soma das colunas: {x.sum(axis=1)}\")\n",
    "print(f\"soma das linhas: {x.sum(axis=0)}\")\n",
    "\n",
    "print(f\"soma todos os elementos: {x.sum()}\")\n",
    "print(f\"média todos os elementos: {x.mean()}\")"
   ]
  },
  {
   "cell_type": "code",
   "execution_count": null,
   "id": "c024d023-3e4f-449c-9c60-f4345221c4b0",
   "metadata": {},
   "outputs": [],
   "source": []
  }
 ],
 "metadata": {
  "kernelspec": {
   "display_name": "Python 3 (ipykernel)",
   "language": "python",
   "name": "python3"
  },
  "language_info": {
   "codemirror_mode": {
    "name": "ipython",
    "version": 3
   },
   "file_extension": ".py",
   "mimetype": "text/x-python",
   "name": "python",
   "nbconvert_exporter": "python",
   "pygments_lexer": "ipython3",
   "version": "3.8.10"
  }
 },
 "nbformat": 4,
 "nbformat_minor": 5
}
