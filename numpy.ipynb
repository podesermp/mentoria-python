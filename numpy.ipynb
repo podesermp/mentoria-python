{
 "cells": [
  {
   "cell_type": "code",
   "execution_count": 1,
   "id": "35ac8ef8-ae2b-45cd-8242-46be4ef707db",
   "metadata": {},
   "outputs": [],
   "source": [
    "import numpy as np"
   ]
  },
  {
   "cell_type": "code",
   "execution_count": 2,
   "id": "c8f8e186-d711-4410-b440-5abbc6bf3631",
   "metadata": {},
   "outputs": [
    {
     "name": "stdout",
     "output_type": "stream",
     "text": [
      "[0 1 2 3 4 5]\n",
      "[[0 1 2 3 4 5]]\n"
     ]
    },
    {
     "data": {
      "text/plain": [
       "(1, 6)"
      ]
     },
     "execution_count": 2,
     "metadata": {},
     "output_type": "execute_result"
    }
   ],
   "source": [
    "x = np.array(range(6))\n",
    "print(x)\n",
    "a2 = x[np.newaxis,:]\n",
    "print(a2)\n",
    "a2.shape"
   ]
  },
  {
   "cell_type": "code",
   "execution_count": 3,
   "id": "96ad846d-f515-4984-990c-5081a03cf318",
   "metadata": {},
   "outputs": [
    {
     "name": "stdout",
     "output_type": "stream",
     "text": [
      "x = [1.  3.  3.5 3. ]\n",
      "y = ['1' '3' '3.5' '3' 'a']\n",
      "type x = <class 'numpy.float64'> --- type y = <class 'numpy.str_'>\n",
      "tipo do array x: <class 'numpy.ndarray'>\n"
     ]
    }
   ],
   "source": [
    "# Matrizes e arrays homogêneos(com elementos do mesmo tipo)\n",
    "\n",
    "x = np.array([1,3,3.5, 3]) #por conter um float64, todos os elementos do array se tornam float64\n",
    "print(f\"x = {x}\")\n",
    "y = np.array([1,3,3.5, 3, \"a\"]) #por conter um str, todos os outros elementos do array se tornam str\n",
    "print(f\"y = {y}\") \n",
    "\n",
    "# uma das diferenças entre o np array e o python list é que no array os valores do array são do mesmo tipo\n",
    "print(f\"type x = {type(x[0])} --- type y = {type(y[0])}\")\n",
    "print(f\"tipo do array x: {type(x)}\")"
   ]
  },
  {
   "cell_type": "code",
   "execution_count": 4,
   "id": "0891ebac-9891-4cb2-8ab7-49010a82fd84",
   "metadata": {},
   "outputs": [
    {
     "name": "stdout",
     "output_type": "stream",
     "text": [
      "[1 2 3 4 5 6]\n",
      "[[ 1  2  3  4]\n",
      " [ 5  6  7  8]\n",
      " [ 9 10 11 12]]\n",
      "primeira linha da mat: [1 2 3 4]\n",
      "primeiro elemento do array: 1\n"
     ]
    }
   ],
   "source": [
    "array = np.array([1,2,3,4,5,6])\n",
    "mat = np.array([[1,2,3,4], [5,6,7,8], [9,10,11,12]])\n",
    "print(array)\n",
    "print(mat)\n",
    "print(f\"primeira linha da mat: {mat[0]}\")\n",
    "print(f\"primeiro elemento do array: {array[0]}\")"
   ]
  },
  {
   "cell_type": "markdown",
   "id": "0fcc05b6-3a53-45f3-bf12-453b8afcc035",
   "metadata": {
    "tags": []
   },
   "source": [
    "### Axes são as dimensões de uma ndarray(np.array)"
   ]
  },
  {
   "cell_type": "code",
   "execution_count": 5,
   "id": "407b11f0-bfdb-40a8-b906-3ab6977ea763",
   "metadata": {},
   "outputs": [
    {
     "name": "stdout",
     "output_type": "stream",
     "text": [
      "[[0 0 0]\n",
      " [1 1 1]]\n"
     ]
    }
   ],
   "source": [
    "# A matriz abaixo tem o primeiro axis com tamanho 2(linhas) e o segundo axis com tamanho 3(colunas)\n",
    "mat = np.array([[0,0,0], [1,1,1]])\n",
    "print(mat)"
   ]
  },
  {
   "cell_type": "markdown",
   "id": "252cd578-23ba-4d6e-adc6-b63c576f8372",
   "metadata": {
    "tags": []
   },
   "source": [
    "### Modos de criar arrays"
   ]
  },
  {
   "cell_type": "code",
   "execution_count": 6,
   "id": "5c3dc977-eab4-4195-b1ea-686103bb5fb8",
   "metadata": {},
   "outputs": [
    {
     "name": "stdout",
     "output_type": "stream",
     "text": [
      "[1 2 3]\n"
     ]
    }
   ],
   "source": [
    "a = np.array([1,2,3])\n",
    "print(a)"
   ]
  },
  {
   "cell_type": "code",
   "execution_count": 7,
   "id": "69d7b9d1-9805-4bee-a3e9-ce8cba14a3eb",
   "metadata": {},
   "outputs": [
    {
     "name": "stdout",
     "output_type": "stream",
     "text": [
      "[0. 0. 0. 0. 0.]\n"
     ]
    }
   ],
   "source": [
    "a_zeros = np.zeros(5)\n",
    "print(a_zeros)"
   ]
  },
  {
   "cell_type": "code",
   "execution_count": 8,
   "id": "3607a373-6227-48b0-a588-98278a184ee2",
   "metadata": {},
   "outputs": [
    {
     "name": "stdout",
     "output_type": "stream",
     "text": [
      "[1. 1. 1. 1. 1.]\n"
     ]
    }
   ],
   "source": [
    "a_ones = np.ones(5)\n",
    "print(a_ones)"
   ]
  },
  {
   "cell_type": "code",
   "execution_count": 9,
   "id": "480262cd-8cc7-4542-b71e-0d3aea878c16",
   "metadata": {},
   "outputs": [
    {
     "name": "stdout",
     "output_type": "stream",
     "text": [
      "[0.0e+000 0.0e+000 1.6e-322]\n"
     ]
    }
   ],
   "source": [
    "# um array vazio é mais rápido de ser criado\n",
    "# os valores que vão ficar são definidos, a principio, de acordo com os valores que estão na memória (?) Perguntar se é isso mesmo que entendi\n",
    "a_void = np.empty(3)\n",
    "print(a_void)"
   ]
  },
  {
   "cell_type": "code",
   "execution_count": 10,
   "id": "a3025563-cde3-4295-87f8-1b2804c26ae0",
   "metadata": {},
   "outputs": [
    {
     "data": {
      "text/plain": [
       "array([0, 1, 2, 3])"
      ]
     },
     "execution_count": 10,
     "metadata": {},
     "output_type": "execute_result"
    }
   ],
   "source": [
    "np.arange(4)"
   ]
  },
  {
   "cell_type": "code",
   "execution_count": 11,
   "id": "c5fdd581-968b-46a9-95bc-2ef4edb4faee",
   "metadata": {},
   "outputs": [
    {
     "name": "stdout",
     "output_type": "stream",
     "text": [
      "[ 0.   2.5  5.   7.5 10. ]\n"
     ]
    }
   ],
   "source": [
    "a_lins = np.linspace(0,10, num=5)\n",
    "print(a_lins)"
   ]
  },
  {
   "cell_type": "code",
   "execution_count": 12,
   "id": "f37fc01e-5ae6-44de-aa33-5ee60bba65f9",
   "metadata": {},
   "outputs": [
    {
     "name": "stdout",
     "output_type": "stream",
     "text": [
      "<class 'numpy.int64'>\n",
      "[1 1 3]\n"
     ]
    }
   ],
   "source": [
    "#consigo especificar o tipo de values do array\n",
    "x = np.array([1,1.1,3], dtype=np.int64)\n",
    "print(type(x[1]))\n",
    "print(x)"
   ]
  },
  {
   "cell_type": "markdown",
   "id": "8704c8a1-873e-4f41-88b0-7b9e7f3647ff",
   "metadata": {},
   "source": [
    "### Adicionar, remover e ordenar elementos"
   ]
  },
  {
   "cell_type": "code",
   "execution_count": 27,
   "id": "a6ac0ece-31b2-4e46-a7d6-b3870281c4e7",
   "metadata": {},
   "outputs": [
    {
     "name": "stdout",
     "output_type": "stream",
     "text": [
      "[1 2 3 4 5 6 7 7 8]\n",
      "4\n",
      "[[ 1  2  3  4]\n",
      " [ 5  6  7  8]\n",
      " [ 9 10 11 12]]\n"
     ]
    }
   ],
   "source": [
    "arr = np.array([2,1,5,3,7,7,4,6,8])\n",
    "print(np.sort(arr))\n",
    "mat = np.array([[1,4,3,2], [8,7,5,6], [12,11,10,9]])\n",
    "print(np.sort(mat))"
   ]
  },
  {
   "cell_type": "code",
   "execution_count": 31,
   "id": "e370fadc-1a3e-4de4-9b21-fe0a5a739526",
   "metadata": {},
   "outputs": [
    {
     "name": "stdout",
     "output_type": "stream",
     "text": [
      "[1 2 3 4 5 6]\n"
     ]
    }
   ],
   "source": [
    "a = np.array([1,2,3])\n",
    "b = np.array([4,5,6])\n",
    "conc = np.concatenate((a,b))\n",
    "print(conc)"
   ]
  },
  {
   "cell_type": "code",
   "execution_count": 55,
   "id": "74861a0d-69eb-4ef5-b188-f7385ec33b5b",
   "metadata": {},
   "outputs": [
    {
     "name": "stdout",
     "output_type": "stream",
     "text": [
      "1\n",
      "[[1 2 3]\n",
      " [3 4 3]\n",
      " [5 6 2]]\n",
      "axes: 2\n",
      "size: 9\n",
      "shape: (3, 3)\n"
     ]
    }
   ],
   "source": [
    "x = np.array([[1, 2, 3], [3, 4, 3]])\n",
    "y = np.array([[5,6,2]])\n",
    "z = np.array([1,3,5])\n",
    "print(z.ndim)\n",
    "m_mat = np.concatenate((x,y), axis=0)\n",
    "print(m_mat)\n",
    "\n",
    "print(f\"axes: {m_mat.ndim}\") # número de axes\n",
    "print(f\"size: {m_mat.size}\") # quantidade de elementos\n",
    "print(f\"shape: {m_mat.shape}\") # quantidade de elementos em cada dimensão"
   ]
  },
  {
   "cell_type": "code",
   "execution_count": 53,
   "id": "fc25050c-433a-4b90-8063-ec75d647ce1a",
   "metadata": {},
   "outputs": [
    {
     "data": {
      "text/plain": [
       "array([[[0, 1, 2, 3],\n",
       "        [4, 5, 6, 7]],\n",
       "\n",
       "       [[0, 1, 2, 3],\n",
       "        [4, 5, 6, 7]],\n",
       "\n",
       "       [[0, 1, 2, 3],\n",
       "        [4, 5, 6, 7]]])"
      ]
     },
     "execution_count": 53,
     "metadata": {},
     "output_type": "execute_result"
    }
   ],
   "source": [
    "array_example = np.array([[[0, 1, 2, 3], [4, 5, 6, 7]],[[0, 1, 2, 3],[4, 5, 6, 7]],[[0 ,1 ,2, 3],[4, 5, 6, 7]]])\n",
    "array_example"
   ]
  },
  {
   "cell_type": "code",
   "execution_count": 63,
   "id": "3a9bdf39-438a-4cbd-a19a-2a2e3ad9cc50",
   "metadata": {},
   "outputs": [
    {
     "name": "stdout",
     "output_type": "stream",
     "text": [
      "[0 1 2 3 4 5 6 7]\n",
      "[[0 1 2 3]\n",
      " [4 5 6 7]]\n",
      "[[0 1]\n",
      " [2 3]\n",
      " [4 5]\n",
      " [6 7]]\n"
     ]
    }
   ],
   "source": [
    "a = np.arange(8)\n",
    "print(a)\n",
    "b = a.reshape(2,4) # reshape retorna outro array\n",
    "print(b)\n",
    "\n",
    "c = np.reshape(a, newshape=(4,2), order='C')\n",
    "print(c)"
   ]
  },
  {
   "cell_type": "code",
   "execution_count": null,
   "id": "ebf0893f-f553-4f22-9dab-67491c8c7956",
   "metadata": {},
   "outputs": [],
   "source": []
  }
 ],
 "metadata": {
  "kernelspec": {
   "display_name": "Python 3 (ipykernel)",
   "language": "python",
   "name": "python3"
  },
  "language_info": {
   "codemirror_mode": {
    "name": "ipython",
    "version": 3
   },
   "file_extension": ".py",
   "mimetype": "text/x-python",
   "name": "python",
   "nbconvert_exporter": "python",
   "pygments_lexer": "ipython3",
   "version": "3.8.10"
  }
 },
 "nbformat": 4,
 "nbformat_minor": 5
}
