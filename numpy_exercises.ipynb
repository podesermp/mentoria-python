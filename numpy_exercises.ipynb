{
 "cells": [
  {
   "cell_type": "markdown",
   "id": "5a52fa55-423d-45eb-bd19-355897fed348",
   "metadata": {},
   "source": [
    "# Numpy: Exercícios"
   ]
  },
  {
   "cell_type": "code",
   "execution_count": 2,
   "id": "87e7cb13-f1a2-4bc4-af08-19d6d1b0784a",
   "metadata": {},
   "outputs": [],
   "source": [
    "import numpy as np"
   ]
  },
  {
   "cell_type": "markdown",
   "id": "d46b5458-4892-4024-885e-8e446b865bae",
   "metadata": {
    "jp-MarkdownHeadingCollapsed": true,
    "tags": []
   },
   "source": [
    "## 1. Crie um vetor de zeros de tamanho 20 com o 9º e o 18ª elementos iguais à 1."
   ]
  },
  {
   "cell_type": "code",
   "execution_count": 4,
   "id": "d49d7bba-70b9-4847-b070-44055bc1f13b",
   "metadata": {},
   "outputs": [
    {
     "name": "stdout",
     "output_type": "stream",
     "text": [
      "[0. 0. 0. 0. 0. 0. 0. 0. 1. 0. 0. 0. 0. 0. 0. 0. 0. 1. 0. 0.]\n"
     ]
    }
   ],
   "source": [
    "a_zeros = np.zeros(shape=(20))\n",
    "#a_zeros[8] = 1\n",
    "#a_zeros[17] = 1\n",
    "\n",
    "a_zeros[[8,17]] = 1\n",
    "\n",
    "print(a_zeros)"
   ]
  },
  {
   "cell_type": "markdown",
   "id": "90762cc8-ce2c-4bc3-b1f3-333e06dba683",
   "metadata": {
    "jp-MarkdownHeadingCollapsed": true,
    "tags": []
   },
   "source": [
    "## 2. Inverta um array Numpy (o último elemento se torna o primeiro)."
   ]
  },
  {
   "cell_type": "code",
   "execution_count": 47,
   "id": "e374d779-ee1f-4619-a046-720b8010e3a8",
   "metadata": {},
   "outputs": [
    {
     "name": "stdout",
     "output_type": "stream",
     "text": [
      "[1 2 3 4 5]\n",
      "::-1 = [5 4 3 2 1]\n",
      "flip = [5 4 3 2 1]\n"
     ]
    }
   ],
   "source": [
    "a = np.array([1,2,3,4,5])\n",
    "print(a)\n",
    "\n",
    "# dois modos de inverter um vetor\n",
    "x = np.flip(a)\n",
    "rev_a = a[::-1]\n",
    "\n",
    "print(f\"::-1 = {rev_a}\")\n",
    "print(f\"flip = {x}\")"
   ]
  },
  {
   "cell_type": "markdown",
   "id": "5c33c680-4007-40e6-b8d8-9530d125f7a9",
   "metadata": {
    "jp-MarkdownHeadingCollapsed": true,
    "tags": []
   },
   "source": [
    "## 3. Crie uma matriz com o intervalo de 0 à 11"
   ]
  },
  {
   "cell_type": "code",
   "execution_count": 105,
   "id": "dc36d48d-45a2-402c-b150-39acf0325863",
   "metadata": {},
   "outputs": [
    {
     "data": {
      "text/plain": [
       "array([ 0,  1,  2,  3,  4,  5,  6,  7,  8,  9, 10, 11])"
      ]
     },
     "execution_count": 105,
     "metadata": {},
     "output_type": "execute_result"
    }
   ],
   "source": [
    "np.array(range(12))"
   ]
  },
  {
   "cell_type": "markdown",
   "id": "58556fbe-8573-4b0a-828e-3122679635fe",
   "metadata": {
    "jp-MarkdownHeadingCollapsed": true,
    "tags": []
   },
   "source": [
    "## 4. Ache os índices dos elementos diferentes de 0 do array [10, 5, 0, 0, 3, 2, 0, 5, 0]."
   ]
  },
  {
   "cell_type": "code",
   "execution_count": 30,
   "id": "15791f1c-9c0d-4755-8db1-05975130809f",
   "metadata": {},
   "outputs": [
    {
     "name": "stdout",
     "output_type": "stream",
     "text": [
      "[10  5  0  0  3  2  0  5  0]\n",
      "(array([0, 1, 4, 5, 7]),)\n"
     ]
    }
   ],
   "source": [
    "a = np.array([10, 5, 0, 0, 3, 2, 0, 5, 0])\n",
    "print(a)\n",
    "ind_nonzero = np.nonzero(a)\n",
    "print(ind_nonzero)"
   ]
  },
  {
   "cell_type": "markdown",
   "id": "8091d4e9-b872-4618-af34-db8c690e7948",
   "metadata": {
    "jp-MarkdownHeadingCollapsed": true,
    "tags": []
   },
   "source": [
    "## 5. Crie uma matriz identidade 5x5."
   ]
  },
  {
   "cell_type": "code",
   "execution_count": 33,
   "id": "9910a7ee-2eba-4624-b548-b5ff9dc49b36",
   "metadata": {},
   "outputs": [
    {
     "name": "stdout",
     "output_type": "stream",
     "text": [
      "[[1. 0. 0. 0. 0.]\n",
      " [0. 1. 0. 0. 0.]\n",
      " [0. 0. 1. 0. 0.]\n",
      " [0. 0. 0. 1. 0.]\n",
      " [0. 0. 0. 0. 1.]]\n"
     ]
    }
   ],
   "source": [
    "identity = np.eye(5)\n",
    "print(identity)"
   ]
  },
  {
   "cell_type": "markdown",
   "id": "e3469ae0-6343-464d-9a32-1bb71ab35aab",
   "metadata": {
    "jp-MarkdownHeadingCollapsed": true,
    "tags": []
   },
   "source": [
    "## 6. Crie um array 5x5x3 com valores aleatórios de 0 à 1 e encontre os valores máximo e mínimo."
   ]
  },
  {
   "cell_type": "code",
   "execution_count": 94,
   "id": "a37497cd-27e9-498a-bc25-171c77d8037a",
   "metadata": {},
   "outputs": [
    {
     "name": "stdout",
     "output_type": "stream",
     "text": [
      "maximum = 1\n",
      "minimum = 0\n",
      "shape = (5, 5, 3)\n"
     ]
    }
   ],
   "source": [
    "tensor = np.random.default_rng().integers(2, size=(5,5,3))\n",
    "#print(tensor)\n",
    "print(f\"maximum = { tensor.max() }\")\n",
    "print(f\"minimum = { tensor.min() }\")\n",
    "print(f\"shape = { tensor.shape }\")"
   ]
  },
  {
   "cell_type": "markdown",
   "id": "0ce0fe2e-864f-4641-8402-4a5bfd4841b8",
   "metadata": {
    "jp-MarkdownHeadingCollapsed": true,
    "tags": []
   },
   "source": [
    "## 7. Crie um array de tamanho 100 e ache o valor médio."
   ]
  },
  {
   "cell_type": "code",
   "execution_count": 93,
   "id": "ac42bad9-4a8a-4b00-9ff5-feb92ee5cf45",
   "metadata": {},
   "outputs": [
    {
     "name": "stdout",
     "output_type": "stream",
     "text": [
      "média = 49.5\n",
      "size = 100\n"
     ]
    }
   ],
   "source": [
    "array = np.array(range(100))\n",
    "print(f\"média = { array.mean() }\")\n",
    "print(f\"size = { array.size }\")"
   ]
  },
  {
   "cell_type": "markdown",
   "id": "a2b3941e-ede9-47d1-a90e-02eb624d594d",
   "metadata": {
    "jp-MarkdownHeadingCollapsed": true,
    "tags": []
   },
   "source": [
    "## 8. Crie um array 5x5 com 1 nas bordas e 0 na parte interior (Ex. [[1, 1, 1], [1, 0, 1], [1, 1, 1]])."
   ]
  },
  {
   "cell_type": "code",
   "execution_count": 73,
   "id": "97130b62-e131-4aa3-895a-b1b008fac222",
   "metadata": {},
   "outputs": [
    {
     "name": "stdout",
     "output_type": "stream",
     "text": [
      "[[1. 1. 1. 1. 1.]\n",
      " [1. 0. 0. 0. 1.]\n",
      " [1. 0. 0. 0. 1.]\n",
      " [1. 0. 0. 0. 1.]\n",
      " [1. 1. 1. 1. 1.]]\n"
     ]
    }
   ],
   "source": [
    "a = np.ones(shape=(5,5))\n",
    "a[1:-1,1:-1] = 0\n",
    "print(a)"
   ]
  },
  {
   "cell_type": "markdown",
   "id": "0265e39f-b8c0-4933-a82f-8ff49c76d459",
   "metadata": {
    "jp-MarkdownHeadingCollapsed": true,
    "tags": []
   },
   "source": [
    "## 9. Crie uma matriz 8, 8 com os valores [1, 2, 3, 4, 5, 6, 7] acima da diagonal."
   ]
  },
  {
   "cell_type": "code",
   "execution_count": 132,
   "id": "c2604f39-6572-4db5-bba6-707f2e0c2ed0",
   "metadata": {},
   "outputs": [
    {
     "name": "stdout",
     "output_type": "stream",
     "text": [
      "[[0 1 0 0 0 0 0 0]\n",
      " [0 0 2 0 0 0 0 0]\n",
      " [0 0 0 3 0 0 0 0]\n",
      " [0 0 0 0 4 0 0 0]\n",
      " [0 0 0 0 0 5 0 0]\n",
      " [0 0 0 0 0 0 6 0]\n",
      " [0 0 0 0 0 0 0 7]\n",
      " [0 0 0 0 0 0 0 0]]\n",
      "\n",
      "[[0 1 0 0 0 0 0 0]\n",
      " [0 0 2 0 0 0 0 0]\n",
      " [0 0 0 3 0 0 0 0]\n",
      " [0 0 0 0 4 0 0 0]\n",
      " [0 0 0 0 0 5 0 0]\n",
      " [0 0 0 0 0 0 6 0]\n",
      " [0 0 0 0 0 0 0 7]\n",
      " [0 0 0 0 0 0 0 0]]\n"
     ]
    }
   ],
   "source": [
    "y = np.diagflat([1, 2, 3, 4, 5, 6, 7], 1)\n",
    "\n",
    "#a = np.diag(np.arange(64).reshape((8,8)),1)  --- return: [ 1 10 19 28 37 46 55]\n",
    "\n",
    "x = np.diag(np.array([1, 2, 3, 4, 5, 6, 7]), 1)\n",
    "\n",
    "print(x)\n",
    "print()\n",
    "print(y)"
   ]
  },
  {
   "cell_type": "markdown",
   "id": "c1c2eabb-4742-4f96-bf2e-14f2a5e37647",
   "metadata": {
    "tags": []
   },
   "source": [
    "## 10. Multiplique uma matriz 6x8 por uma matriz 8x2."
   ]
  },
  {
   "cell_type": "code",
   "execution_count": 4,
   "id": "8043d8ed-6d3a-4a47-914f-49bbab621dea",
   "metadata": {},
   "outputs": [
    {
     "name": "stdout",
     "output_type": "stream",
     "text": [
      "[[ 280  308]\n",
      " [ 728  820]\n",
      " [1176 1332]\n",
      " [1624 1844]\n",
      " [2072 2356]\n",
      " [2520 2868]] (6, 2)\n",
      "[[ 280  308]\n",
      " [ 728  820]\n",
      " [1176 1332]\n",
      " [1624 1844]\n",
      " [2072 2356]\n",
      " [2520 2868]] (6, 2)\n"
     ]
    }
   ],
   "source": [
    "a = np.arange(48).reshape((6,8))\n",
    "b = np.arange(16).reshape((8,2))\n",
    "\n",
    "y = np.matmul(a,b)\n",
    "x = np.dot(a,b)\n",
    "\n",
    "print(y,y.shape)\n",
    "print(x,x.shape)"
   ]
  },
  {
   "cell_type": "markdown",
   "id": "ae890fa8-4f11-43c8-9664-78e6a8b68882",
   "metadata": {
    "tags": []
   },
   "source": [
    "## 11. Dado um array 1D, atribua o sinal negativo aos elementos maiores que 5 e menores que 9."
   ]
  },
  {
   "cell_type": "code",
   "execution_count": 5,
   "id": "49fca74d-069a-419a-8075-1ccb7b413e23",
   "metadata": {},
   "outputs": [
    {
     "name": "stdout",
     "output_type": "stream",
     "text": [
      "[ 1  2  3  4  5  6  7  8  9 10 11 12 13 14]\n",
      "[ 1  2  3  4  5 -6 -7 -8  9 10 11 12 13 14]\n"
     ]
    }
   ],
   "source": [
    "a = np.array(range(1,15))\n",
    "print(a)\n",
    "a[(a>5) & (a<9)] *= -1\n",
    "print(a)"
   ]
  },
  {
   "cell_type": "markdown",
   "id": "57745b28-193b-4a6a-84aa-a67c0183b667",
   "metadata": {
    "tags": []
   },
   "source": [
    "## 12. Crie uma matriz com as linhas começando do valores 0 e terminando no valor 5."
   ]
  },
  {
   "cell_type": "code",
   "execution_count": 24,
   "id": "261da113-10c4-4b43-b853-2426c6e69564",
   "metadata": {},
   "outputs": [
    {
     "name": "stdout",
     "output_type": "stream",
     "text": [
      "[[0 1 2 3 4 5]\n",
      " [0 1 2 3 4 5]\n",
      " [0 1 2 3 4 5]\n",
      " [0 1 2 3 4 5]\n",
      " [0 1 2 3 4 5]\n",
      " [0 1 2 3 4 5]\n",
      " [0 1 2 3 4 5]\n",
      " [0 1 2 3 4 5]\n",
      " [0 1 2 3 4 5]\n",
      " [0 1 2 3 4 5]]\n"
     ]
    }
   ],
   "source": [
    "a = np.full((10,6), range(6))\n",
    "print(a)"
   ]
  },
  {
   "cell_type": "markdown",
   "id": "b7b445be-de51-400c-8216-b6942c156fef",
   "metadata": {
    "jp-MarkdownHeadingCollapsed": true,
    "tags": []
   },
   "source": [
    "## 13. Crie um array começando em 0 e terminando em 1 de tamanho 15, mas com os valores 0 e 1 excluídos."
   ]
  },
  {
   "cell_type": "code",
   "execution_count": 56,
   "id": "59b331da-4c9f-4c46-b12f-ac9322e0cefb",
   "metadata": {},
   "outputs": [
    {
     "name": "stdout",
     "output_type": "stream",
     "text": [
      "[0.0625 0.125  0.1875 0.25   0.3125 0.375  0.4375 0.5    0.5625 0.625\n",
      " 0.6875 0.75   0.8125 0.875  0.9375] \n",
      " 15\n"
     ]
    }
   ],
   "source": [
    "x = np.linspace(start = 0, stop = 1, num=16, endpoint=False)[1:] # pego apartir do segundo elemento\n",
    "print(x ,'\\n', x.size)"
   ]
  },
  {
   "cell_type": "markdown",
   "id": "4fe9c048-4b92-4b0d-a8c0-2cbc550370d3",
   "metadata": {
    "tags": []
   },
   "source": [
    "## 14. Crie um array com valores aleatórios de tamanho 20 e substitua o maior elemento por 0."
   ]
  },
  {
   "cell_type": "code",
   "execution_count": 6,
   "id": "b8082593-991c-4349-ad5c-3f36c0720264",
   "metadata": {},
   "outputs": [
    {
     "name": "stdout",
     "output_type": "stream",
     "text": [
      "[0.94184399 0.3021101  0.32718221 0.64836374 0.55690377 0.98129209\n",
      " 0.34030382 0.37707205 0.38552131 0.43617448 0.36625431 0.03064272\n",
      " 0.53855178 0.21514885 0.59337305 0.22644604 0.01745146 0.26926879\n",
      " 0.20485116 0.57903352] \n",
      "\n",
      "maximo = 0.9812920854041478\n",
      "índice do maximo = 5\n",
      "\n",
      " [0.94184399 0.3021101  0.32718221 0.64836374 0.55690377 0.\n",
      " 0.34030382 0.37707205 0.38552131 0.43617448 0.36625431 0.03064272\n",
      " 0.53855178 0.21514885 0.59337305 0.22644604 0.01745146 0.26926879\n",
      " 0.20485116 0.57903352]\n"
     ]
    }
   ],
   "source": [
    "a = np.random.rand(20)\n",
    "\n",
    "print(a, '\\n')\n",
    "\n",
    "print(f\"maximo = {np.amax(a)}\")\n",
    "print(f\"índice do maximo = {np.argmax(a)}\")\n",
    "\n",
    "a[np.argmax(a)] = 0\n",
    "\n",
    "print('\\n',a)"
   ]
  },
  {
   "cell_type": "markdown",
   "id": "0c3b304e-e723-4f62-8545-044125b28ec4",
   "metadata": {
    "tags": []
   },
   "source": [
    "## 15. Retorne os elementos ímpares de um array."
   ]
  },
  {
   "cell_type": "code",
   "execution_count": 7,
   "id": "f1d386d1-1570-4c00-bc15-948831de2ba7",
   "metadata": {},
   "outputs": [
    {
     "name": "stdout",
     "output_type": "stream",
     "text": [
      "[ 1  3  5  7  9 11 13 15 17 19]\n"
     ]
    }
   ],
   "source": [
    "x = np.arange(20)\n",
    "x = x[x%2 != 0]\n",
    "print(x)"
   ]
  },
  {
   "cell_type": "markdown",
   "id": "5a40b928-2fb7-4310-b06c-08db8b76fff0",
   "metadata": {
    "jp-MarkdownHeadingCollapsed": true,
    "tags": []
   },
   "source": [
    "## 16. Como converter um array float (64 bits) em um array inteiro (32 bits)?"
   ]
  },
  {
   "cell_type": "code",
   "execution_count": 64,
   "id": "2223b172-3414-4b0e-90b1-22e31da47989",
   "metadata": {},
   "outputs": [
    {
     "name": "stdout",
     "output_type": "stream",
     "text": [
      "[0. 1. 2. 3. 4. 5. 6. 7. 8. 9.] - tipo: float64\n",
      "[0 1 2 3 4 5 6 7 8 9] - tipo: int32\n"
     ]
    }
   ],
   "source": [
    "# Da pra converter os tipos usando\n",
    "# documentação do Data Types: https://numpy.org/doc/stable/user/basics.types.html\n",
    "\n",
    "f = np.array(range(10), dtype=float)\n",
    "print(f\"{f} - tipo: {f.dtype}\")\n",
    "i = np.intc(f)\n",
    "print(f\"{i} - tipo: {i.dtype}\")"
   ]
  },
  {
   "cell_type": "markdown",
   "id": "65d747a0-bb1c-4e21-ba8a-fb8abb9bfda0",
   "metadata": {
    "jp-MarkdownHeadingCollapsed": true,
    "tags": []
   },
   "source": [
    "## 17. Subtraia a média de cada linha de uma matriz."
   ]
  },
  {
   "cell_type": "code",
   "execution_count": 42,
   "id": "7f9d2824-9b64-4065-b538-c7058bb91c3f",
   "metadata": {},
   "outputs": [
    {
     "name": "stdout",
     "output_type": "stream",
     "text": [
      "[1. 4. 7.]\n",
      "\n",
      "antes:\n",
      "[[0. 1. 2.]\n",
      " [3. 4. 5.]\n",
      " [6. 7. 8.]]\n",
      "\n",
      "depois:\n",
      "[[-1. -3. -5.]\n",
      " [ 2.  0. -2.]\n",
      " [ 5.  3.  1.]]\n"
     ]
    }
   ],
   "source": [
    "x = np.array(range(9), dtype = float).reshape((3,3))\n",
    "mean_x = np.mean(x,axis=1)\n",
    "\n",
    "print(mean_x[0:])\n",
    "\n",
    "print(f\"\\nantes:\\n{ x }\")\n",
    "x -= mean_x\n",
    "print(f\"\\ndepois:\\n{ x }\")\n",
    "#print(mean_x[0:])"
   ]
  },
  {
   "cell_type": "markdown",
   "id": "22ad2019-38bf-4085-8b62-17faa77fac38",
   "metadata": {
    "tags": []
   },
   "source": [
    "## 18. Como saber se um array 2D tem colunas com todos os valores iguais à 0?"
   ]
  },
  {
   "cell_type": "code",
   "execution_count": 10,
   "id": "8788c9dc-7d22-45dd-bd6b-ea51152776a2",
   "metadata": {},
   "outputs": [
    {
     "name": "stdout",
     "output_type": "stream",
     "text": [
      "\n",
      "[[0 0 1]\n",
      " [0 0 1]\n",
      " [0 1 0]]\n"
     ]
    },
    {
     "data": {
      "text/plain": [
       "True"
      ]
     },
     "execution_count": 10,
     "metadata": {},
     "output_type": "execute_result"
    }
   ],
   "source": [
    "x = np.array([[0,0,1],[0,0,1], [0,1,0]])\n",
    "#print(f\"primeira coluna: {x[0,:]} -- tudo zero? {np.all(x[0,:] == 0)}\")\n",
    "#print(f\"segunda coluna: {x[1,:]} -- tudo zero? {np.all(x[1,:] == 0)}\")\n",
    "#print(f\"terceira coluna:{x[2,:]} -- tudo zero? {np.all(x[2,:] == 0)}\")\n",
    "\n",
    "print()\n",
    "print(x)\n",
    "# np.any() verifica se há algum True, caso tenha retorna True. Se tudo for False, retorna False\n",
    "np.any(~np.any(x, axis=0))"
   ]
  },
  {
   "cell_type": "markdown",
   "id": "f6a0e976-8730-462e-a233-d3102002cea0",
   "metadata": {
    "jp-MarkdownHeadingCollapsed": true,
    "tags": []
   },
   "source": [
    "## 19. Faça uma função que recebe um array *x* e um valor *y* como entrada e encontre o valor em *x* mais próximo de *y*."
   ]
  },
  {
   "cell_type": "code",
   "execution_count": 53,
   "id": "3394ecbe-6671-4f04-9939-b4be215f02ba",
   "metadata": {},
   "outputs": [
    {
     "name": "stdout",
     "output_type": "stream",
     "text": [
      "[7 1 5 1 7 5 8 8 6 5]\n"
     ]
    },
    {
     "data": {
      "text/plain": [
       "1"
      ]
     },
     "execution_count": 53,
     "metadata": {},
     "output_type": "execute_result"
    }
   ],
   "source": [
    "y = -3\n",
    "x = np.random.randint(1,10,10)\n",
    "\n",
    "print(x)\n",
    "#print((np.abs(x-y)).argmin())\n",
    "x[(np.abs(x-y)).argmin()]"
   ]
  },
  {
   "cell_type": "markdown",
   "id": "bf8b6203-79a3-475f-9639-2617b5256732",
   "metadata": {
    "jp-MarkdownHeadingCollapsed": true,
    "tags": []
   },
   "source": [
    "## 20. Como trocar a posição de duas linhas em um array 2D?"
   ]
  },
  {
   "cell_type": "code",
   "execution_count": 126,
   "id": "c9964acd-d681-4ae9-9a1c-4702a695a8d9",
   "metadata": {},
   "outputs": [
    {
     "name": "stdout",
     "output_type": "stream",
     "text": [
      "Array original: \n",
      "[[ 0  1  2]\n",
      " [ 3  4  5]\n",
      " [ 6  7  8]\n",
      " [ 9 10 11]]\n",
      "\n",
      "[[ 0  1  2]\n",
      " [ 9 10 11]]\n",
      "\n",
      "[[ 9 10 11]\n",
      " [ 0  1  2]]\n",
      "\n",
      "Array com swap: \n",
      "[[ 9 10 11]\n",
      " [ 3  4  5]\n",
      " [ 6  7  8]\n",
      " [ 0  1  2]]\n"
     ]
    }
   ],
   "source": [
    "# encontrei esse modo de fzr swap aqui: https://pythoneo.com/how-to-swap-rows-in-numpy-array/\n",
    "\n",
    "a = np.array(range(12)).reshape((4,3))\n",
    "\n",
    "print(f\"Array original: \\n{a}\")\n",
    "\n",
    "print()\n",
    "\n",
    "#aux = a[0].copy()\n",
    "#a[0] = a[-1]\n",
    "#a[-1] = aux\n",
    "\n",
    "print(a[[0,-1]])\n",
    "print()\n",
    "print(a[[-1,0]])\n",
    "print()\n",
    "\n",
    "a[[-1, 0]] = a[[0, -1]]\n",
    "print(f\"Array com swap: \\n{a}\")"
   ]
  },
  {
   "cell_type": "code",
   "execution_count": null,
   "id": "6386d267-10c7-42c4-a619-52d5870ca1d7",
   "metadata": {},
   "outputs": [],
   "source": []
  }
 ],
 "metadata": {
  "kernelspec": {
   "display_name": "Python 3 (ipykernel)",
   "language": "python",
   "name": "python3"
  },
  "language_info": {
   "codemirror_mode": {
    "name": "ipython",
    "version": 3
   },
   "file_extension": ".py",
   "mimetype": "text/x-python",
   "name": "python",
   "nbconvert_exporter": "python",
   "pygments_lexer": "ipython3",
   "version": "3.8.10"
  }
 },
 "nbformat": 4,
 "nbformat_minor": 5
}
