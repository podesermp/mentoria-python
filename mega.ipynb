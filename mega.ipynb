{
 "cells": [
  {
   "cell_type": "code",
   "execution_count": 2,
   "id": "ef01c2dc-c841-4768-87e3-81c3bc007128",
   "metadata": {},
   "outputs": [],
   "source": [
    "import numpy as np"
   ]
  },
  {
   "cell_type": "code",
   "execution_count": 67,
   "id": "0905a3b1-5f08-4c26-9662-b5f6b79fde75",
   "metadata": {},
   "outputs": [
    {
     "name": "stdout",
     "output_type": "stream",
     "text": [
      "[18, 43, 1, 47, 34, 24]\n"
     ]
    }
   ],
   "source": [
    "cartela = []\n",
    "interador = np.arange(6)\n",
    "# print(np.r_[interador, len(interador)])\n",
    "for i in interador:\n",
    "    value = np.random.randint(60)\n",
    "    if value == 0:\n",
    "        interador = np.r_[interador, len(interador)]\n",
    "        continue\n",
    "    if value in cartela:\n",
    "        interador = np.r_[interador, len(interador)]\n",
    "        continue\n",
    "    cartela.append(value)\n",
    "print(cartela)"
   ]
  },
  {
   "cell_type": "code",
   "execution_count": null,
   "id": "fa4a6614-af18-4aad-8b2e-66aebb124032",
   "metadata": {},
   "outputs": [],
   "source": []
  },
  {
   "cell_type": "code",
   "execution_count": null,
   "id": "e00b38c8-dcd2-4a45-9bb5-6a99e9f6f135",
   "metadata": {},
   "outputs": [],
   "source": []
  }
 ],
 "metadata": {
  "kernelspec": {
   "display_name": "Python 3 (ipykernel)",
   "language": "python",
   "name": "python3"
  },
  "language_info": {
   "codemirror_mode": {
    "name": "ipython",
    "version": 3
   },
   "file_extension": ".py",
   "mimetype": "text/x-python",
   "name": "python",
   "nbconvert_exporter": "python",
   "pygments_lexer": "ipython3",
   "version": "3.8.10"
  }
 },
 "nbformat": 4,
 "nbformat_minor": 5
}
