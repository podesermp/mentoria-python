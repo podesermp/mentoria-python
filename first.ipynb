{
 "cells": [
  {
   "cell_type": "code",
   "execution_count": 3,
   "id": "74e2e608-3ab1-44c4-affd-4dbb4ac45101",
   "metadata": {},
   "outputs": [
    {
     "name": "stdout",
     "output_type": "stream",
     "text": [
      "<class 'int'>\n",
      "<class 'float'>\n",
      "<class 'str'>\n"
     ]
    }
   ],
   "source": [
    "print(type(1))\n",
    "print(type(1.5))\n",
    "print(type(\"metoria de python\"))"
   ]
  },
  {
   "cell_type": "code",
   "execution_count": 4,
   "id": "acded45f-7c77-4fd4-80aa-3c1b8f70d433",
   "metadata": {},
   "outputs": [],
   "source": [
    "num_1 = 1\n",
    "num_2 = 1.5\n",
    "str = \"mentoria de pythão\""
   ]
  },
  {
   "cell_type": "code",
   "execution_count": 5,
   "id": "9085823b-6b88-49f2-9ba0-e2cbf2c82ab2",
   "metadata": {},
   "outputs": [
    {
     "name": "stdout",
     "output_type": "stream",
     "text": [
      "1\n",
      "1.5\n",
      "mentoria de pythão\n"
     ]
    }
   ],
   "source": [
    "print(num_1)\n",
    "print(num_2)\n",
    "print(str)"
   ]
  },
  {
   "cell_type": "code",
   "execution_count": 6,
   "id": "bbb275c4-cdd7-4f0d-a938-f20eda5ad18b",
   "metadata": {},
   "outputs": [
    {
     "name": "stdout",
     "output_type": "stream",
     "text": [
      "<class 'int'>\n",
      "<class 'float'>\n",
      "<class 'str'>\n"
     ]
    }
   ],
   "source": [
    "print(type(num_1))\n",
    "print(type(num_2))\n",
    "print(type(str))"
   ]
  },
  {
   "cell_type": "code",
   "execution_count": 7,
   "id": "aec5cb1d-3171-4d36-87e9-911b8fe52de1",
   "metadata": {},
   "outputs": [
    {
     "name": "stdout",
     "output_type": "stream",
     "text": [
      "5+10 = 15\n",
      "5-10 = -5\n",
      "5*10 = 50\n",
      "5/10 = 0.5\n",
      "5//10 = 0\n",
      "5%10 = 5\n",
      "5^10 = 9765625\n"
     ]
    }
   ],
   "source": [
    "a = 5\n",
    "b = 10\n",
    "\n",
    "soma = a+b\n",
    "sub = a-b\n",
    "mult = a*b\n",
    "div = a/b\n",
    "div_int = a//b\n",
    "mod = a%b\n",
    "exp = a**b\n",
    "\n",
    "print(f\"{a}+{b} = {soma}\")\n",
    "print(f\"{a}-{b} = {sub}\")\n",
    "print(f\"{a}*{b} = {mult}\")\n",
    "print(f\"{a}/{b} = {div}\")\n",
    "print(f\"{a}//{b} = {div_int}\")\n",
    "print(f\"{a}%{b} = {mod}\")\n",
    "print(f\"{a}^{b} = {exp}\")"
   ]
  },
  {
   "cell_type": "code",
   "execution_count": 12,
   "id": "665967c0-31a1-4b0f-9793-72958bd2c1ec",
   "metadata": {},
   "outputs": [
    {
     "name": "stdout",
     "output_type": "stream",
     "text": [
      "primeiro elemento 1\n"
     ]
    }
   ],
   "source": [
    "lista = [1,2,3,4,5]\n",
    "print(f\"primeiro elemento {lista[0]}\")"
   ]
  },
  {
   "cell_type": "code",
   "execution_count": 16,
   "id": "84f90557-0336-4bb7-b6c0-0f417a9fc58e",
   "metadata": {},
   "outputs": [
    {
     "name": "stdout",
     "output_type": "stream",
     "text": [
      "primeiros 3 elementos: [1, 2, 3]\n",
      "ultimo elemento: 5\n",
      "penultimo elemento: 4\n",
      "[1, 2, 3, 4, 5]\n"
     ]
    }
   ],
   "source": [
    "print(f\"primeiros 3 elementos: {lista[0:3]}\")\n",
    "print(f\"ultimo elemento: {lista[-1]}\")\n",
    "print(f\"penultimo elemento: {lista[-2]}\")\n",
    "print(lista)"
   ]
  },
  {
   "cell_type": "code",
   "execution_count": 43,
   "id": "0033be1f-bc35-4608-9b71-2151c1b225e4",
   "metadata": {},
   "outputs": [
    {
     "name": "stdout",
     "output_type": "stream",
     "text": [
      "['a', 'b']\n"
     ]
    }
   ],
   "source": [
    "lista2 = []\n",
    "\n",
    "lista2.append(\"a\")\n",
    "lista2.append(\"b\")\n",
    "print(lista2)"
   ]
  },
  {
   "cell_type": "code",
   "execution_count": 37,
   "id": "0b67af1d-165b-4cb8-950f-cd7515747060",
   "metadata": {},
   "outputs": [
    {
     "name": "stdout",
     "output_type": "stream",
     "text": [
      "[1, 2, 3, 4, 5, 'a', 'b']\n"
     ]
    }
   ],
   "source": [
    "#concatenar - adiciona todos os elementos da lista2 na lista\n",
    "lista.extend(lista2)\n",
    "print(lista)"
   ]
  },
  {
   "cell_type": "code",
   "execution_count": 38,
   "id": "667ea153-8124-4f65-9df2-09482f30b61f",
   "metadata": {},
   "outputs": [
    {
     "name": "stdout",
     "output_type": "stream",
     "text": [
      "[1, 2, 3, 4, 5]\n"
     ]
    }
   ],
   "source": [
    "#remover elementos da lista - obs.: não remove todas as ocorrencias de um elemento\n",
    "lista.remove(\"a\")\n",
    "lista.remove(\"b\")\n",
    "print(lista)"
   ]
  },
  {
   "cell_type": "code",
   "execution_count": 44,
   "id": "ad5ea99f-cf36-4aab-ae89-1e06be55840d",
   "metadata": {},
   "outputs": [
    {
     "name": "stdout",
     "output_type": "stream",
     "text": [
      "[1, 2, 3, 4, 5, 'a', 'b']\n"
     ]
    }
   ],
   "source": [
    "#concatenar duas listas e formar uma terceira\n",
    "lista3 = lista+lista2\n",
    "print(lista3)"
   ]
  },
  {
   "cell_type": "code",
   "execution_count": 45,
   "id": "30a0a4b9-25de-454a-b481-d01ad9b5df03",
   "metadata": {},
   "outputs": [
    {
     "name": "stdout",
     "output_type": "stream",
     "text": [
      "dias: ('domingo', 'segunda', 'terça', 'quarta', 'quinta', 'sexta', 'sabado')\n"
     ]
    }
   ],
   "source": [
    "dias = (\"domingo\", \"segunda\", \"terça\", \"quarta\", \"quinta\", \"sexta\", \"sabado\")\n",
    "print(f\"dias: {dias}\")"
   ]
  },
  {
   "cell_type": "code",
   "execution_count": 48,
   "id": "9663e4d7-2224-4c4a-b2c8-1d812c1187d8",
   "metadata": {},
   "outputs": [
    {
     "name": "stdout",
     "output_type": "stream",
     "text": [
      "dias: ('domingo', 'segunda', 'terça', 'quarta', 'quinta', 'sexta', 'sabado')\n"
     ]
    }
   ],
   "source": [
    "#EU NÃO POSSO MODIFICAR TUPLAS\n",
    "#dias = dias + (\"feriado\")\n",
    "print(f\"dias: {dias}\")"
   ]
  },
  {
   "cell_type": "code",
   "execution_count": 49,
   "id": "6c56dc80-69b7-442d-ae5f-dc7560bd14dd",
   "metadata": {},
   "outputs": [
    {
     "name": "stdout",
     "output_type": "stream",
     "text": [
      "{'Alex': 80.0, 'Aline': 58.5, 'Marcelo': 60.0, 'Maria': 60.0}\n"
     ]
    }
   ],
   "source": [
    "peso = {\n",
    "    \"Alex\": 80.0,\n",
    "    \"Aline\": 58.5,\n",
    "    \"Marcelo\": 60.0,\n",
    "    \"Maria\": 60.0,\n",
    "}\n",
    "print(peso)"
   ]
  },
  {
   "cell_type": "code",
   "execution_count": 50,
   "id": "44331901-2054-44fe-88e7-0bb97e9099f0",
   "metadata": {},
   "outputs": [
    {
     "name": "stdout",
     "output_type": "stream",
     "text": [
      "{'Alex': 80.0, 'Aline': 58.5, 'Marcelo': 60.0, 'Maria': 60.0, 'Marcos': 80.0}\n"
     ]
    }
   ],
   "source": [
    "peso[\"Marcos\"] = 80.0\n",
    "print(peso)"
   ]
  },
  {
   "cell_type": "code",
   "execution_count": 52,
   "id": "d06de9fd-de9e-43bf-8986-511f39a382ac",
   "metadata": {},
   "outputs": [
    {
     "name": "stdout",
     "output_type": "stream",
     "text": [
      "Apenas as chaves: dict_keys(['Alex', 'Aline', 'Marcelo', 'Maria', 'Marcos'])\n",
      "Apenas os valores: dict_values([80.0, 58.5, 60.0, 60.0, 80.0])\n"
     ]
    }
   ],
   "source": [
    "print(f\"Apenas as chaves: {peso.keys()}\")\n",
    "print(f\"Apenas os valores: {peso.values()}\")"
   ]
  },
  {
   "cell_type": "code",
   "execution_count": 53,
   "id": "468c7c09-8375-47d2-ac9a-78e6768e9955",
   "metadata": {},
   "outputs": [
    {
     "name": "stdout",
     "output_type": "stream",
     "text": [
      "Peso médio: 67.7\n"
     ]
    }
   ],
   "source": [
    "num_items = len(peso)\n",
    "peso_t = 0\n",
    "for key in peso.keys():\n",
    "    peso_t = peso_t + peso[key]\n",
    "peso_m = peso_t / num_items\n",
    "print(f\"Peso médio: {peso_m}\")"
   ]
  },
  {
   "cell_type": "code",
   "execution_count": 54,
   "id": "f3a1b078-cee2-40ce-97f5-35643dbc9388",
   "metadata": {},
   "outputs": [
    {
     "name": "stdout",
     "output_type": "stream",
     "text": [
      "<class 'list'>\n",
      "<class 'tuple'>\n"
     ]
    }
   ],
   "source": [
    "print(type(lista))\n",
    "print(type(dias))"
   ]
  },
  {
   "cell_type": "code",
   "execution_count": 63,
   "id": "dd9f0cd1-65e7-4f15-b149-42ee26cf2610",
   "metadata": {},
   "outputs": [
    {
     "name": "stdout",
     "output_type": "stream",
     "text": [
      "27.732299776136855\n",
      "sobrepeso\n"
     ]
    }
   ],
   "source": [
    "peso = 83.0\n",
    "altura = 1.73\n",
    "imc = peso/(altura**2)\n",
    "print(imc)\n",
    "if imc>=19 and imc <= 24:\n",
    "    print(\"peso ideal\")\n",
    "if imc>=25 and imc <= 29:\n",
    "    print(\"sobrepeso\")\n",
    "if imc>=30 and imc <= 34:\n",
    "    print(\"obesidade I\")\n",
    "if imc>=30 and imc <= 39:\n",
    "    print(\"obesidade II\")\n",
    "if imc>=40:\n",
    "    print(\"obesidade III\")"
   ]
  },
  {
   "cell_type": "code",
   "execution_count": null,
   "id": "35744528-47e2-43a3-ade9-5c2bb23c133a",
   "metadata": {},
   "outputs": [],
   "source": []
  }
 ],
 "metadata": {
  "kernelspec": {
   "display_name": "Python 3 (ipykernel)",
   "language": "python",
   "name": "python3"
  },
  "language_info": {
   "codemirror_mode": {
    "name": "ipython",
    "version": 3
   },
   "file_extension": ".py",
   "mimetype": "text/x-python",
   "name": "python",
   "nbconvert_exporter": "python",
   "pygments_lexer": "ipython3",
   "version": "3.8.10"
  }
 },
 "nbformat": 4,
 "nbformat_minor": 5
}
