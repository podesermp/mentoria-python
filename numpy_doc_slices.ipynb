{
 "cells": [
  {
   "cell_type": "code",
   "execution_count": 1,
   "id": "3960bd94-1665-4b9c-b933-029ab7b59d80",
   "metadata": {},
   "outputs": [],
   "source": [
    "import numpy as np"
   ]
  },
  {
   "cell_type": "code",
   "execution_count": 2,
   "id": "ebf26f1a-0b6f-49d0-95c4-7d8b1748c6fb",
   "metadata": {},
   "outputs": [],
   "source": [
    "a = np.array(range(10))"
   ]
  },
  {
   "cell_type": "code",
   "execution_count": 3,
   "id": "7ac02578-c765-4802-b73c-ec583402920e",
   "metadata": {},
   "outputs": [
    {
     "name": "stdout",
     "output_type": "stream",
     "text": [
      "[0 1 2 3 4 5 6 7 8 9]\n",
      "a partir do 2º elemento: [1 2 3 4 5 6 7 8 9]\n",
      "todos os elementos antes do 5º: [0 1 2 3 4]\n",
      "do 2º até o 5º: [1 2 3 4]\n",
      "todos os elementos depois do penúltimo(os dois ultimos): [8 9]\n"
     ]
    }
   ],
   "source": [
    "print(a)\n",
    "print(f\"a partir do 2º elemento: {a[1:]}\")\n",
    "print(f\"todos os elementos antes do 5º: {a[:5]}\")\n",
    "print(f\"do 2º até o 5º: {a[1:5]}\")\n",
    "print(f\"todos os elementos depois do penúltimo(os dois ultimos): {a[-2:]}\")"
   ]
  },
  {
   "cell_type": "code",
   "execution_count": 4,
   "id": "68a5a549-359d-403c-b306-20a0f7dc9d42",
   "metadata": {},
   "outputs": [
    {
     "name": "stdout",
     "output_type": "stream",
     "text": [
      "números pares do array: [0 2 4 6 8]\n",
      "números ímpares do array: [1 3 5 7 9]\n",
      "divisíveis por 3: [0 3 6 9]\n",
      "números maior ou igual que 5: [5 6 7 8 9]\n",
      "3<x<7: [4 5 6]\n"
     ]
    }
   ],
   "source": [
    "print(f\"números pares do array: {a[a%2 == 0]}\")\n",
    "print(f\"números ímpares do array: {a[a%2 != 0]}\")\n",
    "print(f\"divisíveis por 3: {a[a%3==0]}\")\n",
    "print(f\"números maior ou igual que 5: {a[a>=5]}\")\n",
    "print(f\"3<x<7: {a[(a>3) & (a<7)]}\")"
   ]
  },
  {
   "cell_type": "code",
   "execution_count": 5,
   "id": "ce01862b-391d-4dd8-8d57-5b49bae7db0a",
   "metadata": {},
   "outputs": [
    {
     "name": "stdout",
     "output_type": "stream",
     "text": [
      "[1 0 0 3 5 4 1 0]\n",
      "(array([0, 3, 4, 5, 6]),)\n"
     ]
    }
   ],
   "source": [
    "x = np.array([1,0,0,3,5,4,1,0])\n",
    "print(x)\n",
    "x_indices_nonzero = np.nonzero(x) # pega o índice dos valores do array x que não são 0's\n",
    "print(x_indices_nonzero)"
   ]
  },
  {
   "cell_type": "code",
   "execution_count": 9,
   "id": "6194c827-e626-454a-8a18-26f17ee1fdd5",
   "metadata": {},
   "outputs": [
    {
     "name": "stdout",
     "output_type": "stream",
     "text": [
      "[0 1 2 3 4]\n",
      "(array([1, 2, 3, 4]),)\n"
     ]
    }
   ],
   "source": [
    "aux = a[a<5]\n",
    "print(aux)\n",
    "b = np.nonzero(aux) # b é uma tupla - no lugar de aux, posso colocar a<5 q tbm funciona\n",
    "print(b)"
   ]
  },
  {
   "cell_type": "code",
   "execution_count": 15,
   "id": "d5b65aa5-a49b-45c5-997f-5f5778670b0d",
   "metadata": {},
   "outputs": [
    {
     "name": "stdout",
     "output_type": "stream",
     "text": [
      "[array([1, 2, 3, 4])]\n"
     ]
    }
   ],
   "source": [
    "coordenadas = list(b)\n",
    "print(coordenadas)"
   ]
  },
  {
   "cell_type": "code",
   "execution_count": 20,
   "id": "479988d5-0837-4da4-bcdd-7a9e18551409",
   "metadata": {},
   "outputs": [
    {
     "name": "stdout",
     "output_type": "stream",
     "text": [
      "[0 1 2 3 4] [0 1 2 3 4]\n",
      "(0, 0)\n",
      "(1, 1)\n",
      "(2, 2)\n",
      "(3, 3)\n",
      "(4, 4)\n",
      "[(0, 0), (1, 1), (2, 2), (3, 3), (4, 4)]\n"
     ]
    }
   ],
   "source": [
    "x = np.array(range(5))\n",
    "y = np.array(range(5))\n",
    "\n",
    "print(x,y)\n",
    "\n",
    "for i in zip(x,y):\n",
    "    print(i)\n",
    "\n",
    "z = list(zip(x,y))\n",
    "print(z)"
   ]
  },
  {
   "cell_type": "code",
   "execution_count": 24,
   "id": "bdc800cd-6fc8-41b7-b9de-55c14cac13ea",
   "metadata": {},
   "outputs": [
    {
     "name": "stdout",
     "output_type": "stream",
     "text": [
      "[0 2 4]\n",
      "[1 3 5 7]\n"
     ]
    }
   ],
   "source": [
    "print(x[::2])\n",
    "print(a[1:8:2])"
   ]
  },
  {
   "cell_type": "code",
   "execution_count": null,
   "id": "b6e34fc9-91b9-41ea-a094-14ba97f82783",
   "metadata": {},
   "outputs": [],
   "source": []
  }
 ],
 "metadata": {
  "kernelspec": {
   "display_name": "Python 3 (ipykernel)",
   "language": "python",
   "name": "python3"
  },
  "language_info": {
   "codemirror_mode": {
    "name": "ipython",
    "version": 3
   },
   "file_extension": ".py",
   "mimetype": "text/x-python",
   "name": "python",
   "nbconvert_exporter": "python",
   "pygments_lexer": "ipython3",
   "version": "3.8.10"
  }
 },
 "nbformat": 4,
 "nbformat_minor": 5
}
